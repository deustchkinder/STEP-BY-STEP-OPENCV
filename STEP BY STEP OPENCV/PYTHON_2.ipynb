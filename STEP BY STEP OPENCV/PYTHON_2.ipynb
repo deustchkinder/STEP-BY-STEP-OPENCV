{
 "cells": [
  {
   "cell_type": "markdown",
   "id": "874d134b-d07c-4cd8-b946-0c564bc2c706",
   "metadata": {},
   "source": [
    "**NUMPY'DA DİZİ OLUŞTURMA**"
   ]
  },
  {
   "cell_type": "code",
   "execution_count": 29,
   "id": "ae1bcb17-359a-4aba-bb1f-d69efcfb3024",
   "metadata": {
    "tags": []
   },
   "outputs": [
    {
     "data": {
      "text/plain": [
       "array(1.)"
      ]
     },
     "execution_count": 29,
     "metadata": {},
     "output_type": "execute_result"
    }
   ],
   "source": [
    "import numpy as np\n",
    "\n",
    "#numpy.int8-numpy.int16-numpy.uint8-numpy.uint16-numpy.float32-numpy.float64 Numpy Veri Türlerindendir.\n",
    "\n",
    "np.empty(0) #Boş bir dizi oluşturma, dizinin değeri o an ki hafızada olan rastgele değerlerden oluşmaktadır.\n",
    "np.zeros(0) #İçi sıfır değerleri ile dolu bir dizi oluşturmak için kullanılır.\n",
    "np.ones(1) #İçi bir değerleri ile dolu bir dizi oluşturmak için kullanılır.\n",
    "\n",
    "shape = []\n",
    "np.empty(shape,dtype=float,order='C')\n",
    "np.zeros(shape,dtype=float,order='C')\n",
    "np.ones(shape,dtype=float,order='C')\n",
    "#shape:Dizi boyutu(satır-sütun) - dtype:Dizinin veri türü(numpy veri türü) - order:dizi elemanlarının sıralanış biçimi(hafızada nasıl saklanacağı C:satır tabanlı | F:sutun tabanlı) - return:ndarray türünde bir dizi döndürme"
   ]
  },
  {
   "cell_type": "code",
   "execution_count": 30,
   "id": "cd3b0da6-6c31-42f4-ad71-e7b96a70acc7",
   "metadata": {
    "tags": []
   },
   "outputs": [
    {
     "name": "stdout",
     "output_type": "stream",
     "text": [
      "[[1162879424        392          0]\n",
      " [         0          1    7209071]]\n",
      "[[0. 0. 0. 0. 0.]\n",
      " [0. 0. 0. 0. 0.]\n",
      " [0. 0. 0. 0. 0.]]\n",
      "[1. 1. 1. 1. 1. 1.]\n",
      "[[[0 0]\n",
      "  [0 0]\n",
      "  [0 0]]\n",
      "\n",
      " [[0 0]\n",
      "  [0 0]\n",
      "  [0 0]]]\n"
     ]
    }
   ],
   "source": [
    "import numpy as np\n",
    "x = np.empty([2,3],dtype=int)\n",
    "print(x)\n",
    "\n",
    "y= np.empty([3,5])\n",
    "print(y)\n",
    "\n",
    "k = np.ones(6)\n",
    "print(k)\n",
    "\n",
    "m = np.zeros([2,3,2],dtype=np.uint8)\n",
    "print(m)"
   ]
  },
  {
   "cell_type": "markdown",
   "id": "2177b4d4-846c-4dc3-a814-54da8df981ec",
   "metadata": {},
   "source": [
    "**ARRAY & ASARRAY**"
   ]
  },
  {
   "cell_type": "code",
   "execution_count": 31,
   "id": "36f69c40-b448-499e-94a0-f130769c31cf",
   "metadata": {
    "tags": []
   },
   "outputs": [
    {
     "name": "stdout",
     "output_type": "stream",
     "text": [
      "[1 2 3]\n",
      "[[3 5]\n",
      " [2 6]]\n",
      "[[1 2 3]]\n"
     ]
    }
   ],
   "source": [
    "np.array(object,dtype=None,copy=True,order='K',subok=False,ndmin=0)\n",
    "# object:giriş listeleri/dizileri - dtype:liste/dizideki en küçük elemanı tutabilecek şekilde - copy:Varsayalın True çevrilecek listenin kopyasını üstüne alır \n",
    "# order:çevrilen dizinin hafızada nasıl depolanacağını belirler. - subok:geriye döndürülecek dizinin temel düzeyde olmasını sağlar varsayılan değer False\n",
    "# ndmin:geriye döndürülecek dizinin en az kaç boyutlu olması gerektiğini ayarlar.Varsayılan 0'dır. - return:ndarray türünde bir dizi döndürür.\n",
    "\n",
    "import numpy as np\n",
    "pyListesi = [1,2,3]\n",
    "\n",
    "x = np.array(pyListesi)\n",
    "print(x)\n",
    "\n",
    "y = np.array([[3,5],[2,6]])\n",
    "print(y)\n",
    "\n",
    "z = np.array([1,2,3], ndmin=2)\n",
    "print(z)"
   ]
  },
  {
   "cell_type": "code",
   "execution_count": 32,
   "id": "f9552249-b565-4a57-9fa1-be8fc88db8ec",
   "metadata": {
    "tags": []
   },
   "outputs": [
    {
     "name": "stdout",
     "output_type": "stream",
     "text": [
      "[1. 1.]\n",
      "[1. 1.]\n",
      "[1. 2.]\n"
     ]
    }
   ],
   "source": [
    "import numpy as np\n",
    "a = [1,0]\n",
    "np.asarray(a,dtype=None,order=None)\n",
    "# a:giriş listeleri/dizileri - dtype:liste/dizideki en küçük elemanı tutabilecek şekilde - order:sadece sütun tabanlı'C' ve satır tabanlı'F' varsayılan olarak alınabilir.\n",
    "\n",
    "def asarray(a,dtype=None,order=None):\n",
    "    return array(a,dtype,copy=False,order=order)\n",
    "# asarray aynı array fonksiyonu gibi çağrılır tek farkı copy parametresini FALSE olarak çağrılmasıdır yani kopya sadece ilgili nesnenin kendisinde olabilecek bir metoda bağlı olacaktı.\n",
    "\n",
    "import numpy as np\n",
    "x = np.ones(2)\n",
    "print(x)\n",
    "\n",
    "np.array(x)[1] = 2\n",
    "print(x)\n",
    "\n",
    "np.asarray(x)[1] = 2\n",
    "print(x)"
   ]
  },
  {
   "cell_type": "markdown",
   "id": "2c8d5c5a-cd8f-4450-befd-5249efa44280",
   "metadata": {},
   "source": [
    "**ARANGE()**"
   ]
  },
  {
   "cell_type": "code",
   "execution_count": 38,
   "id": "8cb15faa-689d-439b-97f4-319c9287943a",
   "metadata": {
    "tags": []
   },
   "outputs": [
    {
     "name": "stdout",
     "output_type": "stream",
     "text": [
      "[0 1 2 3 4]\n",
      "[ 5  8 11 14]\n",
      "[20 19 18 17]\n"
     ]
    }
   ],
   "source": [
    "#Belirtilen eşit aralıklarda bir dizi oluşturmayı sağlar. Oluşan dizi tek boyutludur. Gerekli durumlarda dizi değiştirilebilir. range() benzer!\n",
    "import numpy as np\n",
    "start=5\n",
    "stop=16\n",
    "step=3\n",
    "np.arange(start, stop, step, dtype=None)\n",
    "# start:ilk değer/başlangıç değeri ayarlanır varsayalın değeri 0'dır. - stop:son değer/bitiş değeri ayarlanır(yazılan değer dahil değildir).\n",
    "# step:adım değeridir,başlangıç değerinden sonra hangi aralıklar ile artırılıp azaltılacağı(varsayılan değeri:1) - dtype:veri türü ayarı\n",
    "import numpy as np\n",
    "x = np.arange(5)\n",
    "print(x)\n",
    "\n",
    "y = np.arange(5,16,3,dtype=np.uint8)\n",
    "print(y)\n",
    "\n",
    "z = np.arange(20,16,-1)\n",
    "print(z)"
   ]
  },
  {
   "cell_type": "markdown",
   "id": "ce16cad6-972b-4d8b-a676-2e7caf974d72",
   "metadata": {},
   "source": [
    "**RANDOM()**"
   ]
  },
  {
   "cell_type": "code",
   "execution_count": 92,
   "id": "b2f85894-db22-4b5f-9ecf-882327a09daa",
   "metadata": {
    "tags": []
   },
   "outputs": [
    {
     "name": "stdout",
     "output_type": "stream",
     "text": [
      "[0 4 3 1 3 3]\n",
      "[[1 0]\n",
      " [1 2]\n",
      " [4 4]]\n",
      "[ 1  2  1 12 18]\n",
      "[5 5 1]\n"
     ]
    }
   ],
   "source": [
    "# np.random() çalışma mantığı ones ile zeros ile aynıdır farkı doldurulan dizileri rastgele üretir. !Parametre alacağı değerler ile bir dizi üretmesi sağlanabilir. **Seed Value** \n",
    "import numpy as np\n",
    "low=0\n",
    "high=5\n",
    "size=6\n",
    "np.random.randint(low, high=high, size=size, dtype=int)\n",
    "# low:ilk başlangıç değeridir,verilmez ise ilk başlangıç değerini high olarak kabul edilir. - high:rastgele değer üretiminde olabilecek en değeri belirlemek için kullanılır.(buraya yazılan değer dahil değildir.)\n",
    "# size:dizinin boyut bilgisi(varsayılan 1) - dtype:veri türü ayarı - return:geriye int(tam sayı değeri) döndürür.\n",
    "\n",
    "import numpy as np \n",
    "x = np.random.randint(0,5,size=6)\n",
    "print(x)\n",
    "\n",
    "y = np.random.randint(0,5,size=(3,2))\n",
    "print(y)\n",
    "\n",
    "z = np.random.randint(20,size=5)\n",
    "print(z)\n",
    "\n",
    "t = np.random.randint(1,[6,8,10])\n",
    "print(t)\n",
    "\n",
    "np.random.rand(0,1)  #parametre olarak boyut verilir ve tüm diziyi 0-1 arası düzgün dağıtılmış rastgele sayılarla doldurulur.\n",
    "np.random.randn(0,1) #parametre olarak boyut verilir ve tüm diziyi 0-1 arası normal dağıtılmış rastgele sayılarla doldurulur.\n",
    "np.random.random_sample() #0-1 arasında rastgele sayı verir.\n",
    "np.random.seed()     #rastgele sayı üretme moturunu bir besleyerek hep aynı sırada sayı üretmesini sağlar."
   ]
  },
  {
   "cell_type": "markdown",
   "id": "0757e23e-039a-4ab7-87a2-e699e70090cb",
   "metadata": {},
   "source": [
    "**LİNSPACE()**"
   ]
  },
  {
   "cell_type": "code",
   "execution_count": 99,
   "id": "3a2b479f-6381-4be4-b0a4-0d7666e789d3",
   "metadata": {
    "tags": []
   },
   "outputs": [
    {
     "name": "stdout",
     "output_type": "stream",
     "text": [
      "[ 5.   7.5 10. ]\n",
      "[3.  3.4 3.8 4.2 4.6]\n",
      "(array([3. , 3.5, 4. , 4.5, 5. ]), 0.5)\n"
     ]
    }
   ],
   "source": [
    "# np.linspace() çalışma mantığı arange ile benzer.Farklı olarak başlangıç ve bitiş sayılarından istenen miktar kadar eşit miktarda aralık ile oluşturulmuş dizi oluşturmak için kullanılır.\n",
    "import numpy as np\n",
    "start=0\n",
    "stop=1\n",
    "num=50\n",
    "endpoint=True\n",
    "retstep=False\n",
    "dtype=np.uint8\n",
    "axis=0\n",
    "np.linspace(start,stop,num,endpoint,retstep,dtype,axis)\n",
    "# start:aralığın başlangıç değeri - stop:aralığın bitiş değeri(bitiş değeri dahil) - num:başlangıç ve bitiş değeri arasında toplamda kaç eleman ile oluşacağını belirtir(varsayılan 50)\n",
    "# endpoint:eğer false ayarlanırsa bitiş değeri diziye dahil edilmez(varsayılan TRUE) - retstep:eğer true ayarlanırsa oluşturulan dizi ile birlikte elemanlar arası farkın kaç olduğu bilgisinide döndürür.(varsayılan FALSE)\n",
    "# dtype:numpy veri türü ayarlaması - axis:sadece başlangıç/bitiş değerleri dizi şeklinde ise kullanılır. -1 verilir ise en sonda bir sonuç ekseni üretilir.(varsayılan 0)\n",
    "\n",
    "import numpy as np\n",
    "x = np.linspace(5,10,3)\n",
    "print(x)\n",
    "\n",
    "y = np.linspace(3.0,5.0,num=5,endpoint=False)\n",
    "print(y)\n",
    "\n",
    "z = np.linspace(3.0,5.0,num=5,retstep=True)\n",
    "print(z)"
   ]
  },
  {
   "cell_type": "markdown",
   "id": "69f296a6-7a00-4b4b-9da8-664b2300515a",
   "metadata": {},
   "source": [
    "**Bazı fonksiyon/metotların iki çeşit kullanımı mevcuttur. Birisi direkt mevcut dizi üzerinde metot olarak çağrılarak, diğeri NumPy paketinin bir fonksiyonu olarak çağrılarak kullanılabilir.\n",
    "Kullanımlarının tek farkı birisinde üzerinde çalışılacak dizinin parametre olarak sağlanması diğerinde ise direkt ilgili dizi üzerinde çalıştırılmasıdır.**"
   ]
  },
  {
   "cell_type": "markdown",
   "id": "a2fc44b6-5457-4d22-9633-f7847e458ebd",
   "metadata": {},
   "source": [
    "**DİZİLERDE ÖZNİTELİK ÇIKARIMI**"
   ]
  },
  {
   "cell_type": "code",
   "execution_count": 103,
   "id": "e96998bf-caef-4418-9d9e-c69ac0356e67",
   "metadata": {
    "tags": []
   },
   "outputs": [
    {
     "name": "stdout",
     "output_type": "stream",
     "text": [
      "2\n",
      "********\n",
      "12\n",
      "********\n",
      "(6, 2)\n",
      "********\n",
      "1\n",
      "********\n",
      "  C_CONTIGUOUS : True\n",
      "  F_CONTIGUOUS : False\n",
      "  OWNDATA : True\n",
      "  WRITEABLE : True\n",
      "  ALIGNED : True\n",
      "  WRITEBACKIFCOPY : False\n",
      "  UPDATEIFCOPY : False\n",
      "\n",
      "********\n",
      "[7 3 6 6 6 4 3 6 2 1]\n",
      "********\n",
      "7\n",
      "0\n",
      "********\n",
      "1\n",
      "9\n",
      "********\n",
      "4.4\n",
      "653184\n",
      "********\n"
     ]
    }
   ],
   "source": [
    "import numpy as np\n",
    "a = np.array([[1,1],[0,0],\n",
    "              [1,0],[0,1],\n",
    "              [0,1],[1,0]],dtype=np.int8)\n",
    "\n",
    "ndarray.ndim()#dizinin kaç boyut olduğunu döndürür.\n",
    "np.ndim(a) \n",
    "\n",
    "ndarray.size #toplamda kaç eleman olduğunu döndürür.\n",
    "np.size(a,axis=None)\n",
    "\n",
    "np.shape(a) #bir dizinin kaç boyutu olduğunun yanı sıra her boyutunda kaç eleamn olduğunu döndürür.\n",
    "\n",
    "ndarray.itemsize #byte cinsinden uzunluğunu verir.\n",
    "ndarray.flags #bayraklar olarak gruplanan ve dizi için programlama dilleri prensipleriymiş gibi veren nitelikler bulunur.\n",
    "\n",
    "np.max(a, axis=None, out=None, keepdims=<no value>, initial=<no value>, where=<no value>)\n",
    "ndarray.max(axis=None,out=None,keepdims=False,initial=<no value>,where=True)\n",
    "\n",
    "np.min(a,axis=None,out=None,keepdims=<no value>,initial=<no value>,where=<no value>)\n",
    "ndarray.min(axis=None,out=None,keepdims=False,initial=<no value>,where=True)\n",
    "\n",
    "np.argmin(a,axis=None,out=None) \n",
    "ndarray.argmin(a,axis=None,out=None)#en küçük değerinin indeks numarasını bulmak \n",
    "\n",
    "np.argmax(a,axis=None,out=None) \n",
    "ndarray.argmax(a,axis=None,out=None)#en büyük değerinin indeks numarasını bulmak\n",
    "\n",
    "np.mean(a,axis=None,out=None,dtype=None,keepdims=<no value>)\n",
    "ndarray.mean(a,axis=None,out=None,dtype=None,keepdims=False) #dizinin ortalamasını geri dönderir.\n",
    "\n",
    "np.prod(a, axis=None, out=None, keepdims=<no value>, initial=<no value>,where=<no value>)\n",
    "ndarray.prod(a,axis=None,out=None,keepdims=False,initial=<no value>,where=True) #dizi elemanlarının çarpımını verir.\n",
    "\n",
    "# a:üzerinde çalışılacak dizi - axis:üzerinde çalışılacak eksen bilgilerini sağlanarak sadece istenen eksenlerde sonuçlar alınabilir(varsayılan None) \n",
    "# out:sonucun farklı bir dizide gösterilebilmesi için ndarray dizisinde verilebilir(varsayılan None) - keepdims:TRUE çıkşta elde edilecek değerin giriş değerin giriş dizisi boyutlarına uygun olması için(FALSE)\n",
    "# where:FALSE ayarlanırsa bitiş değeri dizi'ye dahil edilmez.(Varsayılan TRUE)\n",
    "\n",
    "import numpy as np\n",
    "\n",
    "x = np.array([[0,1],[2,3],\n",
    "              [0,1],[2,3],\n",
    "              [0,1],[2,8]],dtype=np.int8)\n",
    "print(x.ndim)\n",
    "print(\"********\")\n",
    "print(x.size)\n",
    "print(\"********\")\n",
    "print(x.shape)\n",
    "print(\"********\")\n",
    "print(x.itemsize)\n",
    "print(\"********\")\n",
    "print(x.flags)\n",
    "print(\"********\")\n",
    "\n",
    "y = np.random.randint(0,20,10)\n",
    "print(y)\n",
    "print(\"********\")\n",
    "print(y.max())\n",
    "print(y.argmax())\n",
    "print(\"********\")\n",
    "print(y.min())\n",
    "print(y.argmin())\n",
    "print(\"********\")\n",
    "print(y.mean())\n",
    "print(y.prod())\n",
    "print(\"********\")\n"
   ]
  },
  {
   "cell_type": "markdown",
   "id": "c0500df7-c920-467e-beb5-ed5991a8954f",
   "metadata": {},
   "source": [
    "**DİZİLERİ YENİDEN BOYUTLANDIRMA VE BİÇİM DEĞİŞTİRME** "
   ]
  },
  {
   "cell_type": "code",
   "execution_count": 123,
   "id": "3bee910d-7575-49d9-922a-d3db808edd01",
   "metadata": {
    "tags": []
   },
   "outputs": [
    {
     "name": "stdout",
     "output_type": "stream",
     "text": [
      "[[0 1 2]\n",
      " [3 4 5]]\n",
      "[[0 1]\n",
      " [2 3]\n",
      " [4 5]]\n"
     ]
    }
   ],
   "source": [
    "import numpy as np\n",
    "ndarray.reshape(shape,order='C') \n",
    "# eleman değerini değitirmeden dizileri yeniden boyutlandırmak için kullanılır. !Dizinin boyutu değiştirirken eleman sayısı eski boyut ile aynı eleman sayısı olmasına özen gösterilmeli.\n",
    "np.reshape(a,newshape,order='C')\n",
    "# shape:yeni boyut girilir. - order:sadece 'F' ve 'C' değerlerini alır - return:geriye boyutu verilen parametrelere göre ayarlanmış bir dizi döndürür.- a:yeniden boyutlandırılacak dizi\n",
    "\n",
    "import numpy as np \n",
    "x = np.arange(6)\n",
    "print(x.reshape(2,3))\n",
    "print(np.reshape(x,(3,2)))"
   ]
  },
  {
   "cell_type": "markdown",
   "id": "43aeede8-3296-44d6-b03a-0fbe6d661007",
   "metadata": {},
   "source": [
    "**reshape() fonksiyonundan sonra kullanılacak BASE metodu ile dizinin hafıza da kendi yerinde mi sahip olduğu veya bir kopya mı olduğunu görebilir.**\n",
    "\n",
    "**Eğer bir dizi kendine ait veriler ile kurulmuşsa BASE metodu NONE şeklinde dönüş yapacaktır.**\n",
    "\n",
    "**Eğer başka bir dizinin kopyası ise kendi orjinal haline dönüşecektir.**"
   ]
  },
  {
   "cell_type": "code",
   "execution_count": 111,
   "id": "dc462d7a-ce5f-48cb-8e38-407b4a04e7b6",
   "metadata": {
    "tags": []
   },
   "outputs": [
    {
     "name": "stdout",
     "output_type": "stream",
     "text": [
      "True\n"
     ]
    }
   ],
   "source": [
    "import numpy as np\n",
    "arr = np.array([1, 2, 3, 4, 5, 6])\n",
    "reshaped_arr = arr.reshape((2, 3))\n",
    "print(reshaped_arr.base is arr)"
   ]
  },
  {
   "cell_type": "code",
   "execution_count": 146,
   "id": "0fe5a49b-fadf-4e0f-9ab6-66d26f86cf13",
   "metadata": {
    "tags": []
   },
   "outputs": [
    {
     "name": "stdout",
     "output_type": "stream",
     "text": [
      "[[ 1  2]\n",
      " [ 3  8]\n",
      " [ 9 10]]\n"
     ]
    }
   ],
   "source": [
    "import numpy as np\n",
    "new_shape = 3\n",
    "ndarray.resize(new_shape, refcheck=True) #çalıştığı dizinin orjinal halini değiştirir.\n",
    "np.resize(a , new_shape)\n",
    "# new_shape:yeni boyut - refcheck:FALSE,referans kontrol edilmeyecektir. Boş bıraklırsa farklı bir nesneye referans gösterilip/gösterilmediği kontrol edilir.\n",
    "\n",
    "import numpy as np\n",
    "x = np.array([[1,2,3],[8,9,10]])\n",
    "x.resize((3,2))\n",
    "print(x)\n"
   ]
  },
  {
   "cell_type": "code",
   "execution_count": 145,
   "id": "2a8549e8-c94c-491e-a7df-f1198586f226",
   "metadata": {
    "tags": []
   },
   "outputs": [
    {
     "name": "stdout",
     "output_type": "stream",
     "text": [
      "[[0 1]\n",
      " [2 3]\n",
      " [4 5]\n",
      " [6 7]\n",
      " [8 9]]\n",
      "[0 1 2 3 4 5 6 7 8 9]\n",
      "2\n",
      "[0 1 2 3 4 5 6 7 8 9]\n",
      "[[  0   1]\n",
      " [100   3]\n",
      " [  4   5]\n",
      " [  6   7]\n",
      " [  8   9]]\n"
     ]
    }
   ],
   "source": [
    "ndarray.flatten(order='C') #dizinin bir boyutta daraltılmış yeni bir kopyasını geriye döndürür.(Düzleştirme)\n",
    "ndarray.flat(indeks) #diziyi bir boyuta indirgemeden sadece dizi daraltılmış olsaydı şekline göre istenen indeks numaralı verisini gönderir.\n",
    "ndarray.ravel() #orjinal verinin tek boyutta daraltılmış haline return ile geriye dönderir.\n",
    "\n",
    "import numpy as np\n",
    "x = np.arange(10).reshape(5,2)\n",
    "print(x)\n",
    "\n",
    "print(x.flatten())\n",
    "\n",
    "print(x.flat[2])\n",
    "\n",
    "print(x.ravel())\n",
    "x.ravel()[2] = 100\n",
    "\n",
    "print(x)"
   ]
  },
  {
   "cell_type": "code",
   "execution_count": 150,
   "id": "51a381c7-7e13-457a-8f02-f0cd8c65bfc5",
   "metadata": {
    "tags": []
   },
   "outputs": [
    {
     "name": "stdout",
     "output_type": "stream",
     "text": [
      "[[2 6]\n",
      " [3 8]\n",
      " [2 2]\n",
      " [5 8]]\n",
      "[[2 6]\n",
      " [3 8]\n",
      " [2 2]\n",
      " [5 8]]\n",
      "[[2 3 2 5]\n",
      " [6 8 2 8]]\n"
     ]
    }
   ],
   "source": [
    "import numpy as np\n",
    "ndarray.transpose(*axes)  #üzerinde çalışılacak aksis bilgilerini parametre olarak alabilmesidir.\n",
    "np.transpose(a,axes=None) \n",
    "ndarray.T #T fonksiyonu parametre almadan çalışabilir.\n",
    "\n",
    "import numpy as np\n",
    "x = np.array([[2,3,2,5],[6,8,2,8]])\n",
    "\n",
    "print(x.transpose())\n",
    "\n",
    "print(x.T)\n",
    "\n",
    "print(x)\n",
    "\n",
    "#Her iki satırda da orjinal veriye etki etmediği gözlemlenilmiştir."
   ]
  },
  {
   "cell_type": "code",
   "execution_count": 164,
   "id": "6bb1e3ca-3e62-4da7-83a4-bed0d763684e",
   "metadata": {
    "tags": []
   },
   "outputs": [
    {
     "name": "stdout",
     "output_type": "stream",
     "text": [
      "[[ 1  2  3]\n",
      " [ 8  9 10]\n",
      " [15 16 17]]\n",
      "[[17 16 15]\n",
      " [10  9  8]\n",
      " [ 3  2  1]]\n",
      "[[15 16 17]\n",
      " [ 8  9 10]\n",
      " [ 1  2  3]]\n",
      "[[ 3  2  1]\n",
      " [10  9  8]\n",
      " [17 16 15]]\n",
      "[17 16 15]\n",
      "[17 10  3]\n"
     ]
    }
   ],
   "source": [
    "np.flip(m, axis=None) #parametre olarak almış olduğu eleman dizilerini tersten sokar\n",
    "# m:sıralanacak dizi - axis:eğer bir değer verilmezse tüm eksenlerde olan elemanları tersten yazdırır.\n",
    "\n",
    "import numpy as np\n",
    "\n",
    "x = np.array([[1,2,3],[8,9,10],[15,16,17]])\n",
    "print(x)\n",
    "\n",
    "print(np.flip(x))\n",
    "\n",
    "print(np.flip(x,0)) #sadece satırları ters çevirerek ekrana yazdırdı.\n",
    "\n",
    "print(np.flip(x,1)) #sadece sütunları ters çevirerek ekrana yazdırdı.\n",
    "\n",
    "print(np.flip(x[2])) #sadece dizinin ikinci satırını ters çevirerek ekrana yazdırdı.\n",
    "\n",
    "print(np.flip(x[:,2])) #sadece dizinin ikinci sütununu ters çevirerek ekrana yazdırdı."
   ]
  },
  {
   "cell_type": "markdown",
   "id": "0a1fd7ac-6411-4760-9861-f208bf4ae406",
   "metadata": {},
   "source": [
    "***DİZİLERDE SIRALAMA - ARAMA - SAYMA - EKLEME - ÇIKARMA***"
   ]
  },
  {
   "cell_type": "code",
   "execution_count": 168,
   "id": "0178398b-0f0e-4e5f-99f9-b1ac518cb989",
   "metadata": {
    "tags": []
   },
   "outputs": [
    {
     "name": "stdout",
     "output_type": "stream",
     "text": [
      "[ 5 10  8]\n",
      "[ 5  8 10]\n",
      "[1 3 5 9]\n",
      "[[1 3]\n",
      " [9 5]]\n",
      "[[1 5]\n",
      " [3 9]]\n"
     ]
    }
   ],
   "source": [
    "np.sort(a,axis=-1,kind=None,order=None) #elemanların değerlerine göre sıralama yapar.\n",
    "# a:sıralamak dizi verilir. - axis:dizilerin sıralanmadan önce düzgünleştirip/düzgünleştirilmeyeceğini ayarlamak için kullanılır.(varsayılan -1)\n",
    "# kind:notasyonlardan birisini alır.\n",
    "\n",
    "import numpy as np\n",
    "\n",
    "x = np.array([5,10,8])\n",
    "print(x)\n",
    "print(np.sort(x))\n",
    "\n",
    "y = np.array([[1,5],[9,3]])\n",
    "print(np.sort(y,axis=None))\n",
    "\n",
    "print(np.sort(y,axis=0))  #dizi sıralanmadan önce düzgünleştirilmedi\n",
    "\n",
    "print(np.sort(y,axis=-1)) #dizi sıralanmadan önce düzgünleştirildi"
   ]
  },
  {
   "cell_type": "code",
   "execution_count": 178,
   "id": "d8ba7182-7d0f-49f6-95dd-754fb362b558",
   "metadata": {
    "tags": []
   },
   "outputs": [
    {
     "name": "stdout",
     "output_type": "stream",
     "text": [
      "[2 3 5 6 8]\n",
      "(array([2, 3, 5, 6, 8]), array([0, 1, 0, 2, 3, 4, 0, 4], dtype=int64))\n",
      "(array([2, 3, 5, 6, 8]), array([0, 1, 3, 4, 5], dtype=int64))\n",
      "(array([2, 3, 5, 6, 8]), array([3, 1, 1, 1, 2], dtype=int64))\n",
      "[2 3 5 6 8]\n"
     ]
    }
   ],
   "source": [
    "np.unique(a,return_index=False,return_inverse=False,return_counts=False,axis=None)\n",
    "# return_index:TRUE bulunan benzersiz değerlerin indeks numarasını da geriye dönderir.(varsayılan FALSE) - return_inverse:TRUE dizideki her bir elemanın arama listesi sonucunda hangi indeks numarasında olduğu bilgisini geriye dönderir.(varsayılan FALSE)\n",
    "# return_counts:TRUE bulunan benzersiz eleman sayısını da geriye dönderir.(varsayılan FALSE) - axis:sadece o eksende çalışır.\n",
    "\n",
    "import numpy as np\n",
    "x = np.array([2,3,2,5,6,8,2,8])\n",
    "print(np.unique(x))\n",
    "print(np.unique(x,return_inverse=True))\n",
    "print(np.unique(x,return_index=True))\n",
    "print(np.unique(x,return_counts=True))\n",
    "print(np.unique(x,axis=-1))"
   ]
  },
  {
   "cell_type": "code",
   "execution_count": 185,
   "id": "7c5ae275-ebd7-447d-8fba-4a61d3f33fc1",
   "metadata": {
    "tags": []
   },
   "outputs": [
    {
     "name": "stdout",
     "output_type": "stream",
     "text": [
      "[1 2 5 6 5 6]\n",
      "[[ 1  2]\n",
      " [ 5  6]\n",
      " [ 9 10]]\n",
      "[[ 1  2]\n",
      " [ 5  6]\n",
      " [20 21]\n",
      " [22 23]]\n",
      "[[ 1  2 20]\n",
      " [ 5  6 23]]\n"
     ]
    }
   ],
   "source": [
    "values = 1\n",
    "np.append(a,values,axis=None)\n",
    "\n",
    "import numpy as np\n",
    "x = np.array([[1,2],[5,6]])\n",
    "print(np.append(x,[5,6]))\n",
    "print(np.append(x,[[9,10]],axis=0))\n",
    "print(np.append(x,[[20,21],[22,23]],axis=0))\n",
    "print(np.append(x,[[20],[23]],axis=1))"
   ]
  },
  {
   "cell_type": "code",
   "execution_count": 192,
   "id": "07082f9e-80d9-41eb-ba5a-fa9e514ec608",
   "metadata": {
    "tags": []
   },
   "outputs": [
    {
     "name": "stdout",
     "output_type": "stream",
     "text": [
      "[  1 100   2   5   6]\n",
      "[[  1 100   2]\n",
      " [  5 100   6]]\n",
      "[[  1   2 100 101 102]\n",
      " [  5   6 100 101 102]]\n",
      "[[  1   2]\n",
      " [100 101]\n",
      " [  5   6]]\n"
     ]
    }
   ],
   "source": [
    "obj=1\n",
    "values=100\n",
    "np.insert(a,obj,values,axis=None)\n",
    "\n",
    "import numpy as np \n",
    "x = np.array([[1,2],[5,6]])\n",
    "print(np.insert(x,1,100))\n",
    "print(np.insert(x,1,100,axis=1))\n",
    "print(np.insert(x,2,[[100],[101],[102]],axis=1))\n",
    "print(np.insert(x,1,[[100,101]],axis=0))"
   ]
  },
  {
   "cell_type": "code",
   "execution_count": 195,
   "id": "54aa7387-1d23-4d95-8e13-37085fc6e8a1",
   "metadata": {
    "tags": []
   },
   "outputs": [
    {
     "name": "stdout",
     "output_type": "stream",
     "text": [
      "[1 2 4 5 6]\n",
      "[[1 3]\n",
      " [4 6]]\n",
      "[[4 5 6]]\n"
     ]
    }
   ],
   "source": [
    "np.delete(a,obj,axis=None)\n",
    "\n",
    "import numpy as np\n",
    "x = np.array([[1,2,3],[4,5,6]])\n",
    "print(np.delete(x,2))\n",
    "print(np.delete(x,1,axis=1))\n",
    "print(np.delete(x,0,axis=0))"
   ]
  },
  {
   "cell_type": "markdown",
   "id": "e9e9caa4-21d4-4247-8fb8-ab6818a3e970",
   "metadata": {},
   "source": [
    "***DİZİLERİ BİRLEŞTİRME VE PARÇALAMA***"
   ]
  },
  {
   "cell_type": "code",
   "execution_count": 14,
   "id": "5d086c54-ab3b-433a-833d-cf50674ad729",
   "metadata": {},
   "outputs": [
    {
     "name": "stdout",
     "output_type": "stream",
     "text": [
      "[[1 2]\n",
      " [3 4]\n",
      " [5 6]]\n",
      "[1 2 3 4 5 6]\n",
      "[[1 2 1]\n",
      " [3 4 2]\n",
      " [5 6 3]]\n"
     ]
    }
   ],
   "source": [
    "import numpy as np\n",
    "np.concatenate((a1,a2),axis=0,out=None) #parametre olarak aldığı dizileri eksen olarak aldığı bilgiye göre birleştirme \n",
    "# a1,a2:dizileri verir,boyutları ve axis'leri birbirlerine uygun olması şarttır. - axis:NONE işleminden önce düzleştirme işlemi yapılır(varsayılan 0)(0 satır - 1 sütun)\n",
    "# out:parametre olarak verilen dizinin,birleştirilmiş ile boyut/biçim olarak uygun olmalı\n",
    "\n",
    "import numpy as np\n",
    "\n",
    "x = np.array([[1,2],[3,4]])\n",
    "y = np.array([[5,6]])\n",
    "z = np.array([[1,2,3]])\n",
    "\n",
    "xy = np.concatenate((x,y),axis=0)\n",
    "print(xy)\n",
    "\n",
    "print(np.concatenate((x,y),axis=None))\n",
    "\n",
    "print(np.concatenate((xy,z.T),axis=1))"
   ]
  },
  {
   "cell_type": "code",
   "execution_count": 22,
   "id": "c7aa92b9-a6d2-4b56-94a5-d9c340c95c5a",
   "metadata": {
    "tags": []
   },
   "outputs": [
    {
     "name": "stdout",
     "output_type": "stream",
     "text": [
      "[[1 2 3]\n",
      " [4 5 6]]\n",
      "[[1 4]\n",
      " [2 5]\n",
      " [3 6]]\n",
      "**********************\n",
      "[[[1 2]\n",
      "  [3 4]]\n",
      "\n",
      " [[5 6]\n",
      "  [7 8]]]\n",
      "[[[1 5]\n",
      "  [2 6]]\n",
      "\n",
      " [[3 7]\n",
      "  [4 8]]]\n",
      "[[[1 2]\n",
      "  [5 6]]\n",
      "\n",
      " [[3 4]\n",
      "  [7 8]]]\n"
     ]
    }
   ],
   "source": [
    "np.stacks(arrays,axis=0,out=None) #parametre olarak aldığı dizileri eksen olarak aldığı bilgiye göre birbirine ekler.Dizinin orjinal üzerinde çalışmaz,kopyası üzerinde çalışır.\n",
    "# axis:0 ilk boyut | -1 son boyut\n",
    "\n",
    "import numpy as np\n",
    "x = np.array([1,2,3])\n",
    "y = np.array([4,5,6])\n",
    "print(np.stack((x,y),axis=0))\n",
    "print(np.stack((x,y),axis=-1))\n",
    "\n",
    "print(\"**********************\")\n",
    "\n",
    "a = np.array([[1,2],[3,4]])\n",
    "b = np.array([[5,6],[7,8]])\n",
    "print(np.stack((a,b),axis=0))\n",
    "print(np.stack((a,b),axis=-1))\n",
    "print(np.stack((a,b),axis=1))"
   ]
  },
  {
   "cell_type": "code",
   "execution_count": 30,
   "id": "f450ed79-b822-45a9-a536-cb716a948c0b",
   "metadata": {
    "tags": []
   },
   "outputs": [
    {
     "name": "stdout",
     "output_type": "stream",
     "text": [
      "[[1 2 3]\n",
      " [4 5 6]]\n",
      "[1 2 3 4 5 6]\n",
      "**************\n",
      "[[1 2]\n",
      " [3 4]\n",
      " [5 6]\n",
      " [7 8]]\n",
      "[[1 2 5 6]\n",
      " [3 4 7 8]]\n"
     ]
    }
   ],
   "source": [
    "np.vstack(tup) #vertical(dikey) ekseninde parametre olarak sadece birleşecek dizileri alır.\n",
    "np.hstack(tup) #horizontal(yatay) ekseninde parametre olarak sadece birleşecek dizileri alır.\n",
    "# tup:Birleştirilecek diziler verilir.Dizilerin uygun boyutlarda olması gerekmektedir.\n",
    "\n",
    "import numpy as np\n",
    "x = np.array([1,2,3])\n",
    "y = np.array([4,5,6])\n",
    "print(np.vstack((x,y)))\n",
    "print(np.hstack((x,y)))\n",
    "\n",
    "print(\"**************\")\n",
    "\n",
    "a = np.array([[1,2],[3,4]])\n",
    "b = np.array([[5,6],[7,8]])\n",
    "print(np.vstack((a,b)))\n",
    "print(np.hstack((a,b)))"
   ]
  },
  {
   "cell_type": "code",
   "execution_count": 37,
   "id": "c242d1e5-5b4d-48e7-a471-8ec49a888cd7",
   "metadata": {
    "tags": []
   },
   "outputs": [
    {
     "name": "stdout",
     "output_type": "stream",
     "text": [
      "[array([0., 1., 2.]), array([3., 4., 5.]), array([6., 7., 8.])]\n",
      "[array([0., 1.]), array([2., 3., 4.]), array([5., 6.]), array([7., 8.])]\n",
      "[[ 0.  1.  2.  3.]\n",
      " [ 4.  5.  6.  7.]\n",
      " [ 8.  9. 10. 11.]\n",
      " [12. 13. 14. 15.]]\n",
      "[array([[0., 1., 2., 3.],\n",
      "       [4., 5., 6., 7.]]), array([[ 8.,  9., 10., 11.],\n",
      "       [12., 13., 14., 15.]])]\n",
      "[array([[ 0.,  1.],\n",
      "       [ 4.,  5.],\n",
      "       [ 8.,  9.],\n",
      "       [12., 13.]]), array([[ 2.,  3.],\n",
      "       [ 6.,  7.],\n",
      "       [10., 11.],\n",
      "       [14., 15.]])]\n"
     ]
    }
   ],
   "source": [
    "np.split(ary,indices_or_sections,axis=0) #Orijinal olmayan kopya olan dizileri parametre alarak ayırma işlemidir.Görüntü oluşturur.\n",
    "np.vsplit(ary,indices_or_sections) #vertical(dikey) ekseninde parametre olarak sadece ayrılacak dizileri alır. axis=0\n",
    "np.hsplit(ary,indices_or_sections) #horizontal(yatay) ekseninde parametre olarak sadece ayrılacak dizileri alır. axis=1\n",
    "# indices_or_sections:Dizinin kaç parçaya ayrılacağı bilgisi verilir.Eleman sayısı ile dizinin kaç parça sayısı tam bölünebilir olmalıdır.\n",
    "#                     Eğer eşit bölme olmayacaksa [a,b,c..] şeklinde liste parametre olarak sağlanabilir.Artan sayısal parametrelere göre parçalama yapılır.\n",
    "\n",
    "import numpy as np\n",
    "x = np.arange(9.0)\n",
    "print(np.split(x,3))\n",
    "print(np.split(x,[2,5,7]))\n",
    "\n",
    "y = np.arange(16.0).reshape(4,4)\n",
    "print(y)\n",
    "print(np.vsplit(y,2)) #print(np.split(y,2,axis=0))\n",
    "print(np.hsplit(y,2)) #print(np.split(y,2,axis=1))"
   ]
  },
  {
   "cell_type": "markdown",
   "id": "a80df2b4-cbc2-409a-b9c8-06bda070c7ef",
   "metadata": {},
   "source": [
    "**INDEKSLEME FILTRELEME VE ERİŞİM**"
   ]
  },
  {
   "cell_type": "markdown",
   "id": "f9b542d3-470a-4276-a841-29e96207bbfa",
   "metadata": {},
   "source": [
    "\n",
    "Indeksleme yöntemleriyle büyük bir dizinin içerisinden amacımıza hizmet edecek bir bölümü dışarıya almaktadır.Aksi bir ifade bulunmadıkça dizinin orjinali değişmemekte dizinin kopysdı alınmamaktadır. \n",
    "Gösterilmiş şekli saklanılmak isteniliyorsa değişkene atanabilir.\n",
    " Indeksleme :(aralık) ->\n",
    "     a:b(a numaralı indeks elemanında b numaralı indeks elemanına kadar) , \n",
    "     :b(ilk elemandan b numaralı indeks elemanına kadar), \n",
    "     a:(a numaralı indeks elemanından dizinin sonuna kadar),\n",
    "     :(bütün elemanlar), \n",
    "     a::x(a indeksinden başlayan her x.'inci indekse ulaşır.)\n",
    "     \n",
    "**NUMPY C-ORDER INDEXING yöntemiyle dizileri hafıza alanında saklamaktadır.Bunun anlamı en son eklenen indeksli elemanlar en çok değişen ve kolay ulaşılabilen hafıza alanında saklanmaktadır.**"
   ]
  },
  {
   "cell_type": "code",
   "execution_count": 57,
   "id": "18234f94-a848-490c-b29b-c81d0cd701d1",
   "metadata": {
    "tags": []
   },
   "outputs": [
    {
     "name": "stdout",
     "output_type": "stream",
     "text": [
      "[0. 2. 4. 6. 8.]\n",
      "6.0\n",
      "()\n",
      "********\n",
      "[[ 0.  1.  2.  3.  4.]\n",
      " [ 5.  6.  7.  8.  9.]\n",
      " [10. 11. 12. 13. 14.]\n",
      " [15. 16. 17. 18. 19.]\n",
      " [20. 21. 22. 23. 24.]]\n",
      "(5,)\n",
      "17.0\n",
      "[5. 6. 7. 8. 9.]\n",
      "*********\n",
      "[2. 4.]\n",
      "[[ 5.  6.  7.  8.  9.]\n",
      " [10. 11. 12. 13. 14.]]\n",
      "[8. 4. 2.]\n",
      "[[17. 18.]\n",
      " [22. 23.]]\n",
      "[[ 1.  2.]\n",
      " [ 6.  7.]\n",
      " [11. 12.]\n",
      " [16. 17.]\n",
      " [21. 22.]]\n",
      "[[3. 4.]\n",
      " [8. 9.]]\n",
      "[21. 24.]\n",
      "[ 0. 10. 20.]\n"
     ]
    }
   ],
   "source": [
    "import numpy as np\n",
    "x = np.arange(5.0)*2\n",
    "y = np.arange(25.0).reshape(5,5)\n",
    "\n",
    "print(x)\n",
    "print(x[3])\n",
    "print(x[3].shape)\n",
    "\n",
    "print(\"********\")\n",
    "\n",
    "print(y)\n",
    "print(y[1].shape)\n",
    "print(y[3,2])\n",
    "print(y[1])\n",
    "\n",
    "print(\"*********\")\n",
    "print(x[1:3])\n",
    "print(y[1:3])\n",
    "print(x[np.array([4,2,1])])\n",
    "print(y[3:5,2:4]) #satır,sutun kesısen yerler.\n",
    "print(y[:,1:3]) #satur,sutun kesısen yerler\n",
    "print(y[:2,3:]) #satır,sutun kesısen yerler\n",
    "print(y[4,1::3]) #satır,sutun kesısen yerler\n",
    "print(y[::2,0]) #2'şer indeks artırımda satır bazlı"
   ]
  },
  {
   "cell_type": "markdown",
   "id": "7b4f6521-b47d-40e9-84ec-b6030679f9bf",
   "metadata": {
    "tags": []
   },
   "source": [
    "**SLICE() == : 'dır. NUMPY'da**"
   ]
  },
  {
   "cell_type": "code",
   "execution_count": 67,
   "id": "fa2e0985-412d-4a6a-ac57-019292440dfb",
   "metadata": {
    "tags": []
   },
   "outputs": [
    {
     "name": "stdout",
     "output_type": "stream",
     "text": [
      "[0. 1. 2. 3. 4. 5. 6. 7. 8. 9.]\n",
      "[3. 5. 7.]\n",
      "[3. 5. 7.]\n",
      "[3. 5. 7.]\n"
     ]
    }
   ],
   "source": [
    "start = 0\n",
    "stop = 5\n",
    "step = 1\n",
    "a[start:stop:step]\n",
    "# a:üzerinde çalışılacak dizi. - start:başlangıç indeks numarası(varsayılan 0) - stop:alınacak en son indeks numarası verilir(burada verilen değer dahil değil) - step:elemanların hangi adımlarla seçileceği(1)\n",
    "\n",
    "import numpy as np\n",
    "x = np.arange(10.0)\n",
    "print(x)\n",
    "print(x[slice(3,8,2)])\n",
    "\n",
    "parca = slice(3,8,2)\n",
    "print(x[parca])\n",
    "print(x[3:8:2])\n",
    "\n",
    "#!Gosterım amaçlıdır, dizinin orijinaş yapısı etkilenmez."
   ]
  },
  {
   "cell_type": "markdown",
   "id": "6207e6b1-fc9a-417b-9f22-0c8350b0edaa",
   "metadata": {
    "tags": []
   },
   "source": [
    "**MANTIKSAL OPERATÖRLER İLE FİLTRELEME - INDEKSLEME**"
   ]
  },
  {
   "cell_type": "code",
   "execution_count": 78,
   "id": "6a266fa3-4041-4c0e-a921-3722ae182fcb",
   "metadata": {
    "tags": []
   },
   "outputs": [
    {
     "name": "stdout",
     "output_type": "stream",
     "text": [
      "[17 54  8 10 49 79 30 78 84]\n",
      "[ 8 10 17 30 49 54 78 79 84]\n",
      "[[17 54  8]\n",
      " [10 49 79]\n",
      " [30 78 84]]\n",
      "[54 79 78 84]\n",
      "[49]\n",
      "[[False False False]\n",
      " [False  True False]\n",
      " [False False False]]\n"
     ]
    }
   ],
   "source": [
    "#! Dizideki elemanlar indeks numaralarına göre değil içeriklerinin belirli şartları sağlama durumlarına göre seçilmelidir.IF şart cümleciği güzel olur.Geriye dönen dizinin tek boyutta indirgenmiş olmalı.\n",
    "#! AND OR yeribe &  | kullanılmalı NUMPY'da.\n",
    "\n",
    "import numpy as np\n",
    "x = np.array([17,54,8,10,49,79,30,78,84])\n",
    "y = np.reshape(x,(3,3))\n",
    "\n",
    "print(x)\n",
    "print(np.sort(x))\n",
    "print(y)\n",
    "\n",
    "print(x[x>50])\n",
    "print(y[(y>30) & (y<50)])\n",
    "print((y>30) & (y<50))"
   ]
  },
  {
   "cell_type": "markdown",
   "id": "041e5def-ef55-4768-b4f1-c6f9f0366e5f",
   "metadata": {},
   "source": [
    "**BİTWİSE OPERATÖRLERİ: görüntü işlemede MASKELEME yöntemleri için kullanılır. (and/or/xor/not/shift) Bit seviyesi işlemlerdir.**"
   ]
  },
  {
   "cell_type": "code",
   "execution_count": 10,
   "id": "f7d744c1-7652-4864-b6a8-bdb143992c62",
   "metadata": {},
   "outputs": [
    {
     "name": "stdout",
     "output_type": "stream",
     "text": [
      "8\n",
      "14\n",
      "6\n",
      "[0 1]\n",
      "[[ 0]\n",
      " [93]\n",
      " [ 0]]\n",
      "40\n",
      "2\n"
     ]
    }
   ],
   "source": [
    "import numpy as np\n",
    "\n",
    "X=10\n",
    "Y=12\n",
    "\n",
    "a=np.array([6,5])\n",
    "b=np.array([8,9])\n",
    "e=np.array([[86],[93],[128]])\n",
    "f=np.array([[0],[255],[0]])\n",
    "\n",
    "print(np.bitwise_and(X,Y))\n",
    "print(np.bitwise_or(X,Y))\n",
    "print(np.bitwise_xor(X,Y))\n",
    "\n",
    "print(np.bitwise_and(a,b))\n",
    "print(np.bitwise_and(e,f))\n",
    "\n",
    "print(np.left_shift(10,2))\n",
    "print(np.right_shift(10,2))"
   ]
  },
  {
   "cell_type": "markdown",
   "id": "63e2c38d-6012-4d3a-a9c0-099d800e4e75",
   "metadata": {},
   "source": [
    "**FARKLI BOYUTLU DİZİLERDE İŞLEMLER(BROADCASTİNG)**\n",
    "\n",
    "**Büyük bir dizi ile küçük bir dizinin aritmetik işlemlerde yayılmadan kasıt küçük dizi değiştirilmeden büyük dizi işlemlerinde uygulanılması veya yayılmasıdır.\n",
    "Diziler eişit boyda olmalı.**"
   ]
  },
  {
   "cell_type": "markdown",
   "id": "8ef93ad6-b194-48b3-8a00-64769d7b8850",
   "metadata": {},
   "source": [
    "**DİZİLERDE KARŞILAŞTIRMA İŞLEMLERİ**"
   ]
  },
  {
   "cell_type": "code",
   "execution_count": 16,
   "id": "09939787-fbb8-4bed-a53f-b00e2ee533c5",
   "metadata": {
    "tags": []
   },
   "outputs": [
    {
     "name": "stdout",
     "output_type": "stream",
     "text": [
      "[5 5 3]\n",
      "[6 6 8]\n",
      "[[2 5 1]\n",
      " [2 6 1]]\n",
      "[2.00000000e+000 4.24399158e-314]\n"
     ]
    }
   ],
   "source": [
    "minimum(x1,x2,out=None,where=True,casting='same_kind',order='K',dtype=None,subok=[True,signature,extobj])\n",
    "maximum(x1,x2,out=None,where=True,casting='same_kind',order='K',dtype=None,subok=[True,signature,extobj])\n",
    "# x1,x2:karşılaştırma yapılacak diziler.(Diziler eşit boyutta değil ise BROADCASTİNG yap) - out:None geriye giriş ile aynı boyutta yeni bir dizi döndürür - \n",
    "# where:bir dizi verilebilir.TRUE,universal function durumunu döndürür.FALSE,out dizisi olduğu gibi bırakılır.(varsayılan TRUE)\n",
    "# casting:sonuç dizisinin dönüşümü için kullanılır.Ayarlama yapılmaz ise giriş dizisiyle aynı olacaktır.(varsayılan same_kind)\n",
    "\n",
    "import numpy as np\n",
    "x = np.minimum([6,5,3],[5,6,8])\n",
    "y = np.maximum([6,5,3],[5,6,8])\n",
    "z = np.minimum([[6,5,3],[5,6,8]],[2,9,1]) #broadcasting\n",
    "t = np.minimum([5.,3.],[2.,7.],where=[True,False])\n",
    "\n",
    "print(x)\n",
    "print(y)\n",
    "print(z)\n",
    "print(t)\n",
    "\n"
   ]
  },
  {
   "cell_type": "code",
   "execution_count": 18,
   "id": "a1664fe5-daed-429c-8dea-e03f2cfad948",
   "metadata": {
    "tags": []
   },
   "outputs": [
    {
     "name": "stdout",
     "output_type": "stream",
     "text": [
      "[5 5 3 5 3]\n",
      "[6 5 4 9 4]\n"
     ]
    }
   ],
   "source": [
    "np.clip(a,a_min,a_max,out=None,**kwargs) #parametre olarak aldığı diziyi kendisine verilen minimum ve maksimum limit değerlerine göre düzenler ve geriye düzenlemiş olduğu verilerle oluşturulan yeni bir dizi döndürür.\n",
    "\n",
    "import numpy as np\n",
    "a = np.array([6,5,3,9,2])\n",
    "\n",
    "x = np.clip(a,3,5)\n",
    "y = np.clip(a,4,None,out=a)\n",
    "\n",
    "print(x)\n",
    "print(a)"
   ]
  },
  {
   "cell_type": "code",
   "execution_count": 20,
   "id": "7626d858-5cad-4eb3-a30d-d38beaf95969",
   "metadata": {
    "tags": []
   },
   "outputs": [
    {
     "name": "stdout",
     "output_type": "stream",
     "text": [
      "Help on built-in function array in module numpy:\n",
      "\n",
      "array(...)\n",
      "    array(object, dtype=None, *, copy=True, order='K', subok=False, ndmin=0,\n",
      "          like=None)\n",
      "    \n",
      "    Create an array.\n",
      "    \n",
      "    Parameters\n",
      "    ----------\n",
      "    object : array_like\n",
      "        An array, any object exposing the array interface, an object whose\n",
      "        __array__ method returns an array, or any (nested) sequence.\n",
      "    dtype : data-type, optional\n",
      "        The desired data-type for the array.  If not given, then the type will\n",
      "        be determined as the minimum type required to hold the objects in the\n",
      "        sequence.\n",
      "    copy : bool, optional\n",
      "        If true (default), then the object is copied.  Otherwise, a copy will\n",
      "        only be made if __array__ returns a copy, if obj is a nested sequence,\n",
      "        or if a copy is needed to satisfy any of the other requirements\n",
      "        (`dtype`, `order`, etc.).\n",
      "    order : {'K', 'A', 'C', 'F'}, optional\n",
      "        Specify the memory layout of the array. If object is not an array, the\n",
      "        newly created array will be in C order (row major) unless 'F' is\n",
      "        specified, in which case it will be in Fortran order (column major).\n",
      "        If object is an array the following holds.\n",
      "    \n",
      "        ===== ========= ===================================================\n",
      "        order  no copy                     copy=True\n",
      "        ===== ========= ===================================================\n",
      "        'K'   unchanged F & C order preserved, otherwise most similar order\n",
      "        'A'   unchanged F order if input is F and not C, otherwise C order\n",
      "        'C'   C order   C order\n",
      "        'F'   F order   F order\n",
      "        ===== ========= ===================================================\n",
      "    \n",
      "        When ``copy=False`` and a copy is made for other reasons, the result is\n",
      "        the same as if ``copy=True``, with some exceptions for 'A', see the\n",
      "        Notes section. The default order is 'K'.\n",
      "    subok : bool, optional\n",
      "        If True, then sub-classes will be passed-through, otherwise\n",
      "        the returned array will be forced to be a base-class array (default).\n",
      "    ndmin : int, optional\n",
      "        Specifies the minimum number of dimensions that the resulting\n",
      "        array should have.  Ones will be pre-pended to the shape as\n",
      "        needed to meet this requirement.\n",
      "    like : array_like\n",
      "        Reference object to allow the creation of arrays which are not\n",
      "        NumPy arrays. If an array-like passed in as ``like`` supports\n",
      "        the ``__array_function__`` protocol, the result will be defined\n",
      "        by it. In this case, it ensures the creation of an array object\n",
      "        compatible with that passed in via this argument.\n",
      "    \n",
      "        .. versionadded:: 1.20.0\n",
      "    \n",
      "    Returns\n",
      "    -------\n",
      "    out : ndarray\n",
      "        An array object satisfying the specified requirements.\n",
      "    \n",
      "    See Also\n",
      "    --------\n",
      "    empty_like : Return an empty array with shape and type of input.\n",
      "    ones_like : Return an array of ones with shape and type of input.\n",
      "    zeros_like : Return an array of zeros with shape and type of input.\n",
      "    full_like : Return a new array with shape of input filled with value.\n",
      "    empty : Return a new uninitialized array.\n",
      "    ones : Return a new array setting values to one.\n",
      "    zeros : Return a new array setting values to zero.\n",
      "    full : Return a new array of given shape filled with value.\n",
      "    \n",
      "    \n",
      "    Notes\n",
      "    -----\n",
      "    When order is 'A' and `object` is an array in neither 'C' nor 'F' order,\n",
      "    and a copy is forced by a change in dtype, then the order of the result is\n",
      "    not necessarily 'C' as expected. This is likely a bug.\n",
      "    \n",
      "    Examples\n",
      "    --------\n",
      "    >>> np.array([1, 2, 3])\n",
      "    array([1, 2, 3])\n",
      "    \n",
      "    Upcasting:\n",
      "    \n",
      "    >>> np.array([1, 2, 3.0])\n",
      "    array([ 1.,  2.,  3.])\n",
      "    \n",
      "    More than one dimension:\n",
      "    \n",
      "    >>> np.array([[1, 2], [3, 4]])\n",
      "    array([[1, 2],\n",
      "           [3, 4]])\n",
      "    \n",
      "    Minimum dimensions 2:\n",
      "    \n",
      "    >>> np.array([1, 2, 3], ndmin=2)\n",
      "    array([[1, 2, 3]])\n",
      "    \n",
      "    Type provided:\n",
      "    \n",
      "    >>> np.array([1, 2, 3], dtype=complex)\n",
      "    array([ 1.+0.j,  2.+0.j,  3.+0.j])\n",
      "    \n",
      "    Data-type consisting of more than one element:\n",
      "    \n",
      "    >>> x = np.array([(1,2),(3,4)],dtype=[('a','<i4'),('b','<i4')])\n",
      "    >>> x['a']\n",
      "    array([1, 3])\n",
      "    \n",
      "    Creating an array from sub-classes:\n",
      "    \n",
      "    >>> np.array(np.mat('1 2; 3 4'))\n",
      "    array([[1, 2],\n",
      "           [3, 4]])\n",
      "    \n",
      "    >>> np.array(np.mat('1 2; 3 4'), subok=True)\n",
      "    matrix([[1, 2],\n",
      "            [3, 4]])\n",
      "\n"
     ]
    }
   ],
   "source": [
    "help(np.array)"
   ]
  },
  {
   "cell_type": "code",
   "execution_count": 22,
   "id": "14f8fa49-03ed-4b3b-881e-c670e6dd9810",
   "metadata": {
    "tags": []
   },
   "outputs": [
    {
     "data": {
      "text/plain": [
       "\u001b[1;31mDocstring:\u001b[0m\n",
       "array(object, dtype=None, *, copy=True, order='K', subok=False, ndmin=0,\n",
       "      like=None)\n",
       "\n",
       "Create an array.\n",
       "\n",
       "Parameters\n",
       "----------\n",
       "object : array_like\n",
       "    An array, any object exposing the array interface, an object whose\n",
       "    __array__ method returns an array, or any (nested) sequence.\n",
       "dtype : data-type, optional\n",
       "    The desired data-type for the array.  If not given, then the type will\n",
       "    be determined as the minimum type required to hold the objects in the\n",
       "    sequence.\n",
       "copy : bool, optional\n",
       "    If true (default), then the object is copied.  Otherwise, a copy will\n",
       "    only be made if __array__ returns a copy, if obj is a nested sequence,\n",
       "    or if a copy is needed to satisfy any of the other requirements\n",
       "    (`dtype`, `order`, etc.).\n",
       "order : {'K', 'A', 'C', 'F'}, optional\n",
       "    Specify the memory layout of the array. If object is not an array, the\n",
       "    newly created array will be in C order (row major) unless 'F' is\n",
       "    specified, in which case it will be in Fortran order (column major).\n",
       "    If object is an array the following holds.\n",
       "\n",
       "    ===== ========= ===================================================\n",
       "    order  no copy                     copy=True\n",
       "    ===== ========= ===================================================\n",
       "    'K'   unchanged F & C order preserved, otherwise most similar order\n",
       "    'A'   unchanged F order if input is F and not C, otherwise C order\n",
       "    'C'   C order   C order\n",
       "    'F'   F order   F order\n",
       "    ===== ========= ===================================================\n",
       "\n",
       "    When ``copy=False`` and a copy is made for other reasons, the result is\n",
       "    the same as if ``copy=True``, with some exceptions for 'A', see the\n",
       "    Notes section. The default order is 'K'.\n",
       "subok : bool, optional\n",
       "    If True, then sub-classes will be passed-through, otherwise\n",
       "    the returned array will be forced to be a base-class array (default).\n",
       "ndmin : int, optional\n",
       "    Specifies the minimum number of dimensions that the resulting\n",
       "    array should have.  Ones will be pre-pended to the shape as\n",
       "    needed to meet this requirement.\n",
       "like : array_like\n",
       "    Reference object to allow the creation of arrays which are not\n",
       "    NumPy arrays. If an array-like passed in as ``like`` supports\n",
       "    the ``__array_function__`` protocol, the result will be defined\n",
       "    by it. In this case, it ensures the creation of an array object\n",
       "    compatible with that passed in via this argument.\n",
       "\n",
       "    .. versionadded:: 1.20.0\n",
       "\n",
       "Returns\n",
       "-------\n",
       "out : ndarray\n",
       "    An array object satisfying the specified requirements.\n",
       "\n",
       "See Also\n",
       "--------\n",
       "empty_like : Return an empty array with shape and type of input.\n",
       "ones_like : Return an array of ones with shape and type of input.\n",
       "zeros_like : Return an array of zeros with shape and type of input.\n",
       "full_like : Return a new array with shape of input filled with value.\n",
       "empty : Return a new uninitialized array.\n",
       "ones : Return a new array setting values to one.\n",
       "zeros : Return a new array setting values to zero.\n",
       "full : Return a new array of given shape filled with value.\n",
       "\n",
       "\n",
       "Notes\n",
       "-----\n",
       "When order is 'A' and `object` is an array in neither 'C' nor 'F' order,\n",
       "and a copy is forced by a change in dtype, then the order of the result is\n",
       "not necessarily 'C' as expected. This is likely a bug.\n",
       "\n",
       "Examples\n",
       "--------\n",
       ">>> np.array([1, 2, 3])\n",
       "array([1, 2, 3])\n",
       "\n",
       "Upcasting:\n",
       "\n",
       ">>> np.array([1, 2, 3.0])\n",
       "array([ 1.,  2.,  3.])\n",
       "\n",
       "More than one dimension:\n",
       "\n",
       ">>> np.array([[1, 2], [3, 4]])\n",
       "array([[1, 2],\n",
       "       [3, 4]])\n",
       "\n",
       "Minimum dimensions 2:\n",
       "\n",
       ">>> np.array([1, 2, 3], ndmin=2)\n",
       "array([[1, 2, 3]])\n",
       "\n",
       "Type provided:\n",
       "\n",
       ">>> np.array([1, 2, 3], dtype=complex)\n",
       "array([ 1.+0.j,  2.+0.j,  3.+0.j])\n",
       "\n",
       "Data-type consisting of more than one element:\n",
       "\n",
       ">>> x = np.array([(1,2),(3,4)],dtype=[('a','<i4'),('b','<i4')])\n",
       ">>> x['a']\n",
       "array([1, 3])\n",
       "\n",
       "Creating an array from sub-classes:\n",
       "\n",
       ">>> np.array(np.mat('1 2; 3 4'))\n",
       "array([[1, 2],\n",
       "       [3, 4]])\n",
       "\n",
       ">>> np.array(np.mat('1 2; 3 4'), subok=True)\n",
       "matrix([[1, 2],\n",
       "        [3, 4]])\n",
       "\u001b[1;31mType:\u001b[0m      builtin_function_or_method\n"
      ]
     },
     "metadata": {},
     "output_type": "display_data"
    }
   ],
   "source": [
    "np.array?"
   ]
  },
  {
   "cell_type": "code",
   "execution_count": 24,
   "id": "0236d176-6fcf-4dcd-b231-cb42f0b90392",
   "metadata": {
    "tags": []
   },
   "outputs": [
    {
     "data": {
      "text/plain": [
       "\u001b[1;31mType:\u001b[0m        ndarray\n",
       "\u001b[1;31mString form:\u001b[0m [1 2 3 4 5]\n",
       "\u001b[1;31mLength:\u001b[0m      5\n",
       "\u001b[1;31mFile:\u001b[0m        c:\\users\\emred\\anaconda3\\lib\\site-packages\\numpy\\__init__.py\n",
       "\u001b[1;31mDocstring:\u001b[0m  \n",
       "ndarray(shape, dtype=float, buffer=None, offset=0,\n",
       "        strides=None, order=None)\n",
       "\n",
       "An array object represents a multidimensional, homogeneous array\n",
       "of fixed-size items.  An associated data-type object describes the\n",
       "format of each element in the array (its byte-order, how many bytes it\n",
       "occupies in memory, whether it is an integer, a floating point number,\n",
       "or something else, etc.)\n",
       "\n",
       "Arrays should be constructed using `array`, `zeros` or `empty` (refer\n",
       "to the See Also section below).  The parameters given here refer to\n",
       "a low-level method (`ndarray(...)`) for instantiating an array.\n",
       "\n",
       "For more information, refer to the `numpy` module and examine the\n",
       "methods and attributes of an array.\n",
       "\n",
       "Parameters\n",
       "----------\n",
       "(for the __new__ method; see Notes below)\n",
       "\n",
       "shape : tuple of ints\n",
       "    Shape of created array.\n",
       "dtype : data-type, optional\n",
       "    Any object that can be interpreted as a numpy data type.\n",
       "buffer : object exposing buffer interface, optional\n",
       "    Used to fill the array with data.\n",
       "offset : int, optional\n",
       "    Offset of array data in buffer.\n",
       "strides : tuple of ints, optional\n",
       "    Strides of data in memory.\n",
       "order : {'C', 'F'}, optional\n",
       "    Row-major (C-style) or column-major (Fortran-style) order.\n",
       "\n",
       "Attributes\n",
       "----------\n",
       "T : ndarray\n",
       "    Transpose of the array.\n",
       "data : buffer\n",
       "    The array's elements, in memory.\n",
       "dtype : dtype object\n",
       "    Describes the format of the elements in the array.\n",
       "flags : dict\n",
       "    Dictionary containing information related to memory use, e.g.,\n",
       "    'C_CONTIGUOUS', 'OWNDATA', 'WRITEABLE', etc.\n",
       "flat : numpy.flatiter object\n",
       "    Flattened version of the array as an iterator.  The iterator\n",
       "    allows assignments, e.g., ``x.flat = 3`` (See `ndarray.flat` for\n",
       "    assignment examples; TODO).\n",
       "imag : ndarray\n",
       "    Imaginary part of the array.\n",
       "real : ndarray\n",
       "    Real part of the array.\n",
       "size : int\n",
       "    Number of elements in the array.\n",
       "itemsize : int\n",
       "    The memory use of each array element in bytes.\n",
       "nbytes : int\n",
       "    The total number of bytes required to store the array data,\n",
       "    i.e., ``itemsize * size``.\n",
       "ndim : int\n",
       "    The array's number of dimensions.\n",
       "shape : tuple of ints\n",
       "    Shape of the array.\n",
       "strides : tuple of ints\n",
       "    The step-size required to move from one element to the next in\n",
       "    memory. For example, a contiguous ``(3, 4)`` array of type\n",
       "    ``int16`` in C-order has strides ``(8, 2)``.  This implies that\n",
       "    to move from element to element in memory requires jumps of 2 bytes.\n",
       "    To move from row-to-row, one needs to jump 8 bytes at a time\n",
       "    (``2 * 4``).\n",
       "ctypes : ctypes object\n",
       "    Class containing properties of the array needed for interaction\n",
       "    with ctypes.\n",
       "base : ndarray\n",
       "    If the array is a view into another array, that array is its `base`\n",
       "    (unless that array is also a view).  The `base` array is where the\n",
       "    array data is actually stored.\n",
       "\n",
       "See Also\n",
       "--------\n",
       "array : Construct an array.\n",
       "zeros : Create an array, each element of which is zero.\n",
       "empty : Create an array, but leave its allocated memory unchanged (i.e.,\n",
       "        it contains \"garbage\").\n",
       "dtype : Create a data-type.\n",
       "numpy.typing.NDArray : A :term:`generic <generic type>` version\n",
       "                       of ndarray.\n",
       "\n",
       "Notes\n",
       "-----\n",
       "There are two modes of creating an array using ``__new__``:\n",
       "\n",
       "1. If `buffer` is None, then only `shape`, `dtype`, and `order`\n",
       "   are used.\n",
       "2. If `buffer` is an object exposing the buffer interface, then\n",
       "   all keywords are interpreted.\n",
       "\n",
       "No ``__init__`` method is needed because the array is fully initialized\n",
       "after the ``__new__`` method.\n",
       "\n",
       "Examples\n",
       "--------\n",
       "These examples illustrate the low-level `ndarray` constructor.  Refer\n",
       "to the `See Also` section above for easier ways of constructing an\n",
       "ndarray.\n",
       "\n",
       "First mode, `buffer` is None:\n",
       "\n",
       ">>> np.ndarray(shape=(2,2), dtype=float, order='F')\n",
       "array([[0.0e+000, 0.0e+000], # random\n",
       "       [     nan, 2.5e-323]])\n",
       "\n",
       "Second mode:\n",
       "\n",
       ">>> np.ndarray((2,), buffer=np.array([1,2,3]),\n",
       "...            offset=np.int_().itemsize,\n",
       "...            dtype=int) # offset = 1*itemsize, i.e. skip first element\n",
       "array([2, 3])\n"
      ]
     },
     "metadata": {},
     "output_type": "display_data"
    }
   ],
   "source": [
    "a = np.array([1,2,3,4,5])\n",
    "a?"
   ]
  },
  {
   "cell_type": "markdown",
   "id": "3ca33f52-ddb7-4da2-ae39-ace3efca88b4",
   "metadata": {},
   "source": [
    "**PANDAS**"
   ]
  },
  {
   "cell_type": "code",
   "execution_count": 26,
   "id": "736bff74-4a42-44eb-bb31-a60422c9ed5b",
   "metadata": {
    "tags": []
   },
   "outputs": [
    {
     "ename": "NameError",
     "evalue": "name 'df' is not defined",
     "output_type": "error",
     "traceback": [
      "\u001b[1;31m---------------------------------------------------------------------------\u001b[0m",
      "\u001b[1;31mNameError\u001b[0m                                 Traceback (most recent call last)",
      "\u001b[1;32m~\\AppData\\Local\\Temp\\ipykernel_10288\\3718033276.py\u001b[0m in \u001b[0;36m<module>\u001b[1;34m\u001b[0m\n\u001b[0;32m      2\u001b[0m \u001b[0mpd\u001b[0m\u001b[1;33m.\u001b[0m\u001b[0mDataFrame\u001b[0m\u001b[1;33m(\u001b[0m\u001b[0mdata\u001b[0m\u001b[1;33m=\u001b[0m\u001b[1;32mNone\u001b[0m\u001b[1;33m,\u001b[0m\u001b[0mindex\u001b[0m\u001b[1;33m=\u001b[0m\u001b[1;32mNone\u001b[0m\u001b[1;33m,\u001b[0m\u001b[0mcolumns\u001b[0m\u001b[1;33m=\u001b[0m\u001b[1;32mNone\u001b[0m\u001b[1;33m,\u001b[0m\u001b[0mdtype\u001b[0m\u001b[1;33m=\u001b[0m\u001b[1;32mNone\u001b[0m\u001b[1;33m,\u001b[0m\u001b[0mcopy\u001b[0m\u001b[1;33m=\u001b[0m\u001b[1;32mFalse\u001b[0m\u001b[1;33m)\u001b[0m\u001b[1;33m\u001b[0m\u001b[1;33m\u001b[0m\u001b[0m\n\u001b[0;32m      3\u001b[0m \u001b[1;31m# data:ndarray,list,dict vb. veri türleri girdi olarak verilir. -- index:satır başlarına yazılacak etiketleri ayarlamak için kullanılır. -- columns:sütun başlarına yazılacak etiketleri ayarlamak için kullanılır\u001b[0m\u001b[1;33m\u001b[0m\u001b[1;33m\u001b[0m\u001b[0m\n\u001b[1;32m----> 4\u001b[1;33m \u001b[0mdf\u001b[0m\u001b[1;33m.\u001b[0m\u001b[0mto_csv\u001b[0m\u001b[1;33m(\u001b[0m\u001b[1;33m)\u001b[0m \u001b[1;31m# .csv haricinde sql,excel,html,json,sql,string gibi bir çok format desteklenir.\u001b[0m\u001b[1;33m\u001b[0m\u001b[1;33m\u001b[0m\u001b[0m\n\u001b[0m",
      "\u001b[1;31mNameError\u001b[0m: name 'df' is not defined"
     ]
    }
   ],
   "source": [
    "import pandas as pd \n",
    "pd.DataFrame(data=None,index=None,columns=None,dtype=None,copy=False)\n",
    "# data:ndarray,list,dict vb. veri türleri girdi olarak verilir. -- index:satır başlarına yazılacak etiketleri ayarlamak için kullanılır. -- columns:sütun başlarına yazılacak etiketleri ayarlamak için kullanılır\n",
    "df.to_csv() # .csv haricinde sql,excel,html,json,sql,string gibi bir çok format desteklenir."
   ]
  },
  {
   "cell_type": "code",
   "execution_count": 28,
   "id": "3a169729-9708-477e-9513-b1c95bcfaf44",
   "metadata": {
    "tags": []
   },
   "outputs": [
    {
     "name": "stdout",
     "output_type": "stream",
     "text": [
      "     isim dTarihi\n",
      "0   Ahmet    1984\n",
      "1  Mehmet    1986\n",
      "2     Ali    1999\n",
      "3   Osman    1987\n",
      "4    Enes    1963\n",
      "************\n",
      "isim       Mehmet\n",
      "dTarihi      1986\n",
      "Name: 1, dtype: object\n"
     ]
    }
   ],
   "source": [
    "#PANDAS İLE VERİ SETİ KAYIT ETMEK\n",
    "import numpy as np\n",
    "import pandas as pd\n",
    "\n",
    "bilgiler = np.array([\n",
    "['Ahmet','1984'],\n",
    "['Mehmet','1986'],\n",
    "['Ali','1999'],\n",
    "['Osman','1987'],\n",
    "['Enes','1963']])\n",
    "\n",
    "df = pd.DataFrame(data=bilgiler,columns=['isim','dTarihi'])\n",
    "print(df)\n",
    "print(\"************\")\n",
    "print(df.loc[1])\n",
    "\n",
    "df.to_csv('bilgi.csv')"
   ]
  },
  {
   "cell_type": "code",
   "execution_count": 30,
   "id": "f4c1dd54-5e24-48b3-94dc-dadc71202c82",
   "metadata": {
    "tags": []
   },
   "outputs": [
    {
     "name": "stdout",
     "output_type": "stream",
     "text": [
      "   Unnamed: 0    isim  dTarihi\n",
      "0           0   Ahmet     1984\n",
      "1           1  Mehmet     1986\n",
      "2           2     Ali     1999\n",
      "3           3   Osman     1987\n",
      "4           4    Enes     1963\n",
      "Unnamed: 0         1\n",
      "isim          Mehmet\n",
      "dTarihi         1986\n",
      "Name: 1, dtype: object\n"
     ]
    }
   ],
   "source": [
    "#PANDAS İLE VERİ SETİ ÇEKME\n",
    "import pandas as pd\n",
    "import numpy  as np\n",
    "\n",
    "df = pd.read_csv('bilgi.csv')\n",
    "print(df)\n",
    "print(df.loc[1]) #sadece 1 indeksli satıra ulaşma"
   ]
  },
  {
   "cell_type": "markdown",
   "id": "c778ca81-7211-498a-afdd-62ef9dd3f2da",
   "metadata": {},
   "source": [
    "**GÖRÜNTÜLER ÜZERİNDE ÇALIŞMAK BİR NEVİ DİZİLER ÜZERİNDE ÇALIŞMAK GİBİDİR**\n",
    "                                                   ~ **EREN TAŞ**"
   ]
  },
  {
   "cell_type": "code",
   "execution_count": null,
   "id": "d002a56c-fd1c-4e69-a069-240552518cdb",
   "metadata": {},
   "outputs": [],
   "source": []
  }
 ],
 "metadata": {
  "kernelspec": {
   "display_name": "Python 3 (ipykernel)",
   "language": "python",
   "name": "python3"
  },
  "language_info": {
   "codemirror_mode": {
    "name": "ipython",
    "version": 3
   },
   "file_extension": ".py",
   "mimetype": "text/x-python",
   "name": "python",
   "nbconvert_exporter": "python",
   "pygments_lexer": "ipython3",
   "version": "3.9.13"
  }
 },
 "nbformat": 4,
 "nbformat_minor": 5
}
