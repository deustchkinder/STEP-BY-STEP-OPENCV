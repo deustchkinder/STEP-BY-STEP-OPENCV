{
 "cells": [
  {
   "cell_type": "markdown",
   "id": "435dda5e-b59c-4c75-b38c-d07a2ec34212",
   "metadata": {},
   "source": [
    "**PYTHON GİRİŞ**"
   ]
  },
  {
   "cell_type": "code",
   "execution_count": 4,
   "id": "9ec6405e-4840-4b09-a3bc-68d00da2996e",
   "metadata": {
    "tags": []
   },
   "outputs": [
    {
     "name": "stdout",
     "output_type": "stream",
     "text": [
      "**********\n",
      "Merhaba\n",
      "kare alani hesaplamak i̇çi̇n değerleri̇ gi̇ri̇ni̇z ?\n"
     ]
    },
    {
     "name": "stdin",
     "output_type": "stream",
     "text": [
      "Karenin bir kenar ölçüsünü giriniz? 8\n"
     ]
    },
    {
     "name": "stdout",
     "output_type": "stream",
     "text": [
      "Sonuc:\n",
      "Bir kenarın uzunluğu: 8\n",
      "Alan= 64\n",
      "\n",
      "Program\n",
      "Bitti\n"
     ]
    }
   ],
   "source": [
    "mesaj1 = \"Merhaba\"\n",
    "mesaj2 = \"KARE ALANI HESAPLAMAK İÇİN DEĞERLERİ GİRİNİZ ?\"\n",
    "\n",
    "print(\"**********\")\n",
    "print(mesaj1)\n",
    "print(mesaj2.lower())\n",
    "\n",
    "kenar = input('Karenin bir kenar ölçüsünü giriniz?')\n",
    "\n",
    "kenar = int(kenar)\n",
    "alan = kenar **2\n",
    "\n",
    "print(\"Sonuc:\")\n",
    "print(f\"Bir kenarın uzunluğu: {kenar}\")\n",
    "print(f\"Alan= {alan}\")\n",
    "print()\n",
    "print(\"Program\\nBitti\")"
   ]
  },
  {
   "cell_type": "code",
   "execution_count": 8,
   "id": "c5520afb-9393-4106-b9e3-a4951d5ed5c5",
   "metadata": {
    "tags": []
   },
   "outputs": [
    {
     "data": {
      "text/plain": [
       "100000"
      ]
     },
     "execution_count": 8,
     "metadata": {},
     "output_type": "execute_result"
    }
   ],
   "source": [
    "x,y,z = 10,3,8.0\n",
    "t =100_000\n",
    "t"
   ]
  },
  {
   "cell_type": "code",
   "execution_count": 7,
   "id": "edf74d57-b3c6-4679-949f-9dbddcb0495e",
   "metadata": {
    "tags": []
   },
   "outputs": [
    {
     "name": "stdout",
     "output_type": "stream",
     "text": [
      "M\n"
     ]
    }
   ],
   "source": [
    "s = \"Merhaba\"\n",
    "print(s[0])"
   ]
  },
  {
   "cell_type": "markdown",
   "id": "e27c101e-0dd9-43d9-9653-7fb9722e2c8a",
   "metadata": {
    "tags": []
   },
   "source": [
    "**BİTWİSE(AND OR XOR SHIFTTING) operatorlerın calısmasını anlayabılmek ıcın sayıların BINARY cevırmeyı unutma!**"
   ]
  },
  {
   "cell_type": "code",
   "execution_count": 10,
   "id": "96d9973f-4d57-471a-9051-bd36250279c3",
   "metadata": {
    "tags": []
   },
   "outputs": [
    {
     "name": "stdout",
     "output_type": "stream",
     "text": [
      "['Enes', 'Osman', 'Ali', 'Huseyin', 'Yusuf']\n",
      "Ali\n",
      "ENES\n",
      "Listenin en son ismi: Yusuf\n",
      "['Ali', 'Yahya']\n",
      "['Enes', 'Osman', 'Ali', 'Yahya', 'Yusuf', 'Musa']\n",
      "['Enes', 'Arif', 'Osman', 'Ali', 'Yahya', 'Yusuf', 'Musa']\n",
      "['Enes', 'Ali', 'Yahya', 'Yusuf', 'Musa']\n",
      "['Ali', 'Yahya']\n",
      "['Ali', 'Enes', 'Musa', 'Yahya', 'Yusuf']\n",
      "5\n"
     ]
    }
   ],
   "source": [
    "#Listeler ile ilgili örnek\n",
    "yeniBosListe = []\n",
    "isimlerListesi = ['Enes','Osman','Ali','Huseyin','Yusuf']\n",
    "\n",
    "print(isimlerListesi)\n",
    "print(isimlerListesi[2])\n",
    "print(isimlerListesi[0].upper())\n",
    "print(f\"Listenin en son ismi: {isimlerListesi[-1]}\")\n",
    "\n",
    "isimlerListesi[3] = 'Yahya'\n",
    "print(isimlerListesi[2:4])\n",
    "\n",
    "isimlerListesi.append('Musa')\n",
    "print(isimlerListesi)\n",
    "\n",
    "isimlerListesi.insert(1,'Arif')\n",
    "print(isimlerListesi)\n",
    "\n",
    "del isimlerListesi[1:3]\n",
    "print(isimlerListesi)\n",
    "\n",
    "x = isimlerListesi[1:3]\n",
    "print(x)\n",
    "\n",
    "isimlerListesi.sort()\n",
    "print(isimlerListesi)\n",
    "\n",
    "print(len(isimlerListesi))"
   ]
  },
  {
   "cell_type": "code",
   "execution_count": 12,
   "id": "5b20c9bc-726c-49f4-a1d6-d67df99ed1a6",
   "metadata": {
    "tags": []
   },
   "outputs": [
    {
     "data": {
      "text/plain": [
       "(6,)"
      ]
     },
     "execution_count": 12,
     "metadata": {},
     "output_type": "execute_result"
    }
   ],
   "source": [
    "ikiBoyutluListe = [[7,8,9],[10,11,12]]\n",
    "ikiBoyutluListe\n",
    "\n",
    "#x=range(baslangic,bitis,adimMiktari)\n",
    "min([25,12,8,90,68])\n",
    "max([25,12,8,90,68])\n",
    "sum([25,12,8,90,68])\n",
    "\n",
    "#Liste Kopyalama(Pointer)\n",
    "eskiListe = [[1,0,1,1,1,0,0,0,1]]\n",
    "yeniListe1 = eskiListe\n",
    "yeniListe2 = eskiListe.copy()\n",
    "yeniListe3 = eskiListe[:]\n",
    "#deepCopy() ile liste çok boyutlu ise kullanılabilir.\n",
    "\n",
    "tupleListesi1 = (5,6,8)\n",
    "tupleListesi1 = (8,9,10)\n",
    "tupleListesi1\n",
    "tekElemanlıTuple = (6,)\n",
    "tekElemanlıTuple"
   ]
  },
  {
   "cell_type": "code",
   "execution_count": 16,
   "id": "1592d017-a8ac-4fe3-a577-6816bf3b8f6c",
   "metadata": {
    "tags": []
   },
   "outputs": [
    {
     "name": "stdout",
     "output_type": "stream",
     "text": [
      "{'isim': 'Ali', 'boy': '198', 'kilo': '90'}\n",
      "198\n",
      "96\n",
      "{'isim': 'Ali', 'boy': '198', 'kilo': 96, 'cinsiyet': 'e'}\n",
      "{'isim': 'Ali', 'kilo': 96, 'cinsiyet': 'e'}\n",
      "Bu şekilde bilgi bulunamadı.\n"
     ]
    }
   ],
   "source": [
    "#lİSTELER (list) demek listenin INDEKSLI haline erişmek demektir. Sçzlük(Dict) demek anahtar kelimesi haline erişmek demektir. = {ANAHTAR,DEGER} = sozluk_adi = {anahtar:veri,...}\n",
    "kisiBilgisi1 = {'isim':'Ali','boy':'198','kilo':'90'}\n",
    "print(kisiBilgisi1)\n",
    "\n",
    "print(kisiBilgisi1['boy'])\n",
    "\n",
    "kisiBilgisi1['kilo'] = 96\n",
    "print(kisiBilgisi1['kilo'])\n",
    "\n",
    "kisiBilgisi1['cinsiyet'] = 'e'\n",
    "print(kisiBilgisi1)\n",
    "\n",
    "del kisiBilgisi1['boy']\n",
    "print(kisiBilgisi1)\n",
    "\n",
    "#print(kisiBilgisi1['boy']) -- boy anahtar verisi önceki satırlarda silindiği için ulaşılmayacak, get() metodu ile hatalara engel olunmaya çalışılabilir.\n",
    "print(kisiBilgisi1.get('boy','Bu şekilde bilgi bulunamadı.'))"
   ]
  },
  {
   "cell_type": "code",
   "execution_count": 23,
   "id": "3c51bc9b-bd61-4fd2-b329-06a20048a6ad",
   "metadata": {
    "tags": []
   },
   "outputs": [
    {
     "name": "stdout",
     "output_type": "stream",
     "text": [
      "[{'cinsiyet': 'e', 'boy': '198'}, {'cinsiyet': 'k', 'boy': '178', 'diller': ['eng', 'tr', 'fr']}, [12, 32, 34]]\n"
     ]
    },
    {
     "data": {
      "text/plain": [
       "'tr'"
      ]
     },
     "execution_count": 23,
     "metadata": {},
     "output_type": "execute_result"
    }
   ],
   "source": [
    "#NESTING(IC ICE SOZLUK/LISTELER YERLESTIRME): Derınlestıkce veriler ile ugrasmak zordur.\n",
    "kisi1 = {'cinsiyet':'e','boy':'198'}\n",
    "kisi2 = {'cinsiyet':'k','boy':'178','diller':['eng','tr','fr']}\n",
    "notlar = [12,32,34]\n",
    "\n",
    "birlestirilmisListe = [kisi1,kisi2,notlar]\n",
    "print(birlestirilmisListe)\n",
    "\n",
    "kisi2['diller'][1] #Turkce dilini bilen kisiye erişmek\n",
    "birlestirilmisListe[0]['boy'] #Boyu 198 cm olan kisiye ulastı. Öncelikle liste bicimini kullanarak kisi1'e ardından sözlük bicimini kullanarak 198'e ulastı.\n",
    "#!Python programlama dilinin listeler/sözlükler 'i her birini ayrı ayrı eleman olarak nitelendirir.\n",
    "birlestirilmisListe[1]['diller'][1] #Turkce dilini bilen kişiye iç ice listeler ile erişmek."
   ]
  },
  {
   "cell_type": "markdown",
   "id": "16bf73cf-3e5c-4d5c-b177-70f075446088",
   "metadata": {},
   "source": [
    "**NESTING yapısı ile tanımlanmış listeler/sözlükler'de erişim eleman yapısı birbirine benzer olmalıdır. Yani liste-sozluk-liste olan yukarıdaki örnekteki gibi bir eleman serisinde önce listelere ardından da sözlüklere erişim sağlanılmalıdır. Indeks-AnahtarKelime-Indeks olarak yazdırılmalı.** "
   ]
  },
  {
   "cell_type": "markdown",
   "id": "aa40db8d-6813-4c13-9a16-1977aabaefda",
   "metadata": {
    "tags": []
   },
   "source": [
    "\n",
    "IF BLOGU,üç farklı şekilde çalışma mantığı vardır.\n",
    "\n",
    "1-Tek şart kontrol ifadesi ile, \n",
    "if sart_cumlecıgı:\n",
    "    #sart_cumlegı dogru ıse calıacak kod\n",
    "    ....\n",
    "if blogu dısında calısacak kod\n",
    "    ......\n",
    "    \n",
    "2-Tek şart kontrol doğru/hatalı olmasına göre,\n",
    "if sart_cumlecıgı:\n",
    "    #sart_cumlecıgı dogru ise calıscak kod.\n",
    "    ....\n",
    "else:\n",
    "    #sart_cumlecıgı hatalı ise calısacak kod.\n",
    "    ....\n",
    "if-else blogu dısındaki calıscak kod\n",
    "    .......\n",
    "    \n",
    "3-Çoklu Şart kontrolleri ifadesi ile,\n",
    "if sart_cumlecıgı1:\n",
    "    #sart_cumlecıgı1 dogru ıse calısacak kod\n",
    "    ....\n",
    "elif sart_cumlecıgı2:\n",
    "    #sartcumlecıgı2 dogru ıse calısacak kod\n",
    "    ....\n",
    "elif sart_cumlecıgı3:\n",
    "    #sartcumlecıgı3 dogru ıse calısacak kod\n",
    "    ....\n",
    "else:\n",
    "    #sart_cumlecıgıkleri hatalı ise calısacak kod\n",
    "    ....\n",
    "if-elif blogu dısındaki calısacak kod \n",
    "    ......"
   ]
  },
  {
   "cell_type": "code",
   "execution_count": 37,
   "id": "3492c57f-755c-4f84-bcd9-fbe850dd8018",
   "metadata": {
    "tags": []
   },
   "outputs": [
    {
     "name": "stdin",
     "output_type": "stream",
     "text": [
      "Vize notunu giriniz? 72\n",
      "Final notunu giriniz? 55\n"
     ]
    },
    {
     "name": "stdout",
     "output_type": "stream",
     "text": [
      "Ortalamanız:61.8\n",
      "Durum: \"Başarılı\"\n",
      "Durum:\"Başarılı\"\n",
      "Harf Notu: BB\n"
     ]
    }
   ],
   "source": [
    "vize = int(input('Vize notunu giriniz?'))\n",
    "final = int(input('Final notunu giriniz?'))\n",
    "\n",
    "ortalama = vize * 0.4 + final * 0.6\n",
    "print(f\"Ortalamanız:{ortalama}\")\n",
    "\n",
    "if ortalama >=60:\n",
    "    print(\"Durum: \\\"Başarılı\\\"\")\n",
    "if ortalama <=60:\n",
    "    print(\"Durum:\\\"Başarısız\\\"\")\n",
    "    \n",
    "if ortalama >=60:\n",
    "    print(\"Durum:\\\"Başarılı\\\"\")\n",
    "else:\n",
    "    print(\"Durum:\\\"Başarısız\\\"\")\n",
    "    \n",
    "if ortalama >79:\n",
    "    print(\"Harf Notu: AA\")\n",
    "elif ortalama >59:\n",
    "    print(\"Harf Notu: BB\")\n",
    "elif ortalama >29:\n",
    "    print(\"Harf Notu: DD\")\n",
    "else:\n",
    "    print(\"Harf Notu: DD\")"
   ]
  },
  {
   "cell_type": "code",
   "execution_count": 42,
   "id": "c575b20c-0977-404b-9fa4-c5436e09e971",
   "metadata": {
    "tags": []
   },
   "outputs": [
    {
     "name": "stdout",
     "output_type": "stream",
     "text": [
      "Çalıştı.\n",
      "Çalıştı.\n",
      "Çalıştı.\n",
      "Çalıştı.\n"
     ]
    }
   ],
   "source": [
    "#BOOLEAN, TRUE(1)-FALSE(0)\n",
    "#IF ifadesinin BOOLEAN'da çalışma süreci\n",
    "x = 5\n",
    "y = 1 \n",
    "if x>3 and y<5:\n",
    "    print(\"Çalıştı.\")\n",
    "#Adım1:Değişken değerleri yerlerine yazılır.    \n",
    "x = 5 \n",
    "y = 1 \n",
    "if 5>3 and 1<5:\n",
    "    print(\"Çalıştı.\")\n",
    "#Adım2:Boolean değerleri çevrilir.\n",
    "x = 5\n",
    "y = 1\n",
    "if True and True:\n",
    "    print('Çalıştı.')\n",
    "#Adım3:And işlemi sonuçlandırır.\n",
    "x = 5\n",
    "y = 1\n",
    "if True:\n",
    "    print('Çalıştı.')"
   ]
  },
  {
   "cell_type": "code",
   "execution_count": 46,
   "id": "aacd99de-9483-424f-9320-82ade4f33b68",
   "metadata": {
    "tags": []
   },
   "outputs": [
    {
     "name": "stdin",
     "output_type": "stream",
     "text": [
      "Araç markanız nedir? audi\n"
     ]
    },
    {
     "name": "stdout",
     "output_type": "stream",
     "text": [
      "Tel:0212 212 12 12\n"
     ]
    }
   ],
   "source": [
    "#Çoklu IF ifadeleri ve String Karşılaştırmaları\n",
    "marka = input('Araç markanız nedir?')\n",
    "\n",
    "if marka == 'wv' or marka == 'audi':\n",
    "    print('Tel:0212 212 12 12')\n",
    "    \n",
    "elif marka =='renault' or marka == 'dacia':\n",
    "    print('Tel:0312 312 31 12')\n",
    "\n",
    "else:\n",
    "    print('Sistemimizde servis numarası bulunamamıştır.')\n",
    "    \n",
    "#!Python programlama dili için Audi ve AUDİ birbirinden farklı kelimelerdir.\n",
    "#!String ifadeleri karşılaştırılmalarında eğer karşılaştırma amacı büyük/küçük harf duyarlılığının bir önemi yoksa giriş verisi olarak alınan değerleri UPPER() - LOWER()\n",
    "#! İF yapısında = kullanmak mantık hatasına sebep olabilir. == operatörü kullanmak daha sağlıklıdır."
   ]
  },
  {
   "cell_type": "code",
   "execution_count": 50,
   "id": "72a19279-1150-4ea5-9e6d-9b0f9886c583",
   "metadata": {
    "tags": []
   },
   "outputs": [
    {
     "name": "stdout",
     "output_type": "stream",
     "text": [
      "True\n",
      "False\n",
      "True\n"
     ]
    }
   ],
   "source": [
    "a = [1,2,3]\n",
    "b = [1,2,3]\n",
    "c = a \n",
    "\n",
    "print(a is c)\n",
    "print(a is b)\n",
    "print(a == c)\n",
    "#a is b ifadesi değer olarak aynı fakat göstergeci olaraktan aynı hafıza alanını gösteren ve birbirinden bağımlı değişkenler değil.\n",
    "# a == b ifadesi iki listenin birbirine denk olup olmadğını gösterdi."
   ]
  },
  {
   "cell_type": "code",
   "execution_count": 56,
   "id": "7405e93d-2610-4d50-9804-285a8ee033e7",
   "metadata": {
    "tags": []
   },
   "outputs": [
    {
     "name": "stdout",
     "output_type": "stream",
     "text": [
      "0\n",
      "1\n",
      "2\n",
      "3\n",
      "4\n",
      "Sayıların Toplamı: 10\n"
     ]
    }
   ],
   "source": [
    "#DONGU(LOOP):Bir kod bloğunun belirli bir şartı doğru olduğu müddetçe çalışmasını sağlayan FOR ve WHİLE çeşiti olan yapılardır.\n",
    "#WHILE:Önceden belirlenmiş bir şartın doğruluğu bozulana kadar kendi bloğunda yer alan kodları tekrar ile çalıştırır.\n",
    "#while kosul_veya_sart_ifadesi:\n",
    "     #kosul veya sart dogru oldugu surece calısacak kodlar.\n",
    "#while döngüsünün sonsuz olmaması için döngünün belirli bir şarta bağlı olarak kırılması veya döngü şartının bozulması gerekmektedir. Aksi halde sonsuz döngü olarak kalacaktır.\n",
    "\n",
    "i = 0\n",
    "tp = 0\n",
    "\n",
    "while i < 5:\n",
    "    print(i)\n",
    "    tp += i\n",
    "    i  += 1 #Dongu degiskenini artirma ifadesi\n",
    "print(f\"Sayıların Toplamı: {tp}\")"
   ]
  },
  {
   "cell_type": "code",
   "execution_count": 60,
   "id": "7d3434cb-c1a3-4e7a-bf3f-748fe27eaeec",
   "metadata": {
    "tags": []
   },
   "outputs": [
    {
     "name": "stdin",
     "output_type": "stream",
     "text": [
      "Toplanacak sayıları giriniz? 12\n",
      "Toplanacak sayıları giriniz? 58\n",
      "Toplanacak sayıları giriniz? 63\n",
      "Toplanacak sayıları giriniz? 45\n",
      "Toplanacak sayıları giriniz? 87\n",
      "Toplanacak sayıları giriniz? -1\n"
     ]
    },
    {
     "name": "stdout",
     "output_type": "stream",
     "text": [
      "Toplam: 265\n"
     ]
    }
   ],
   "source": [
    "#Dongu Şartlarının Bozulması\n",
    "girilenSayi = 0\n",
    "tp = 0\n",
    "d = True\n",
    "\n",
    "while d:\n",
    "    tp += girilenSayi\n",
    "    girilenSayi = int(input(\"Toplanacak sayıları giriniz?\"))\n",
    "    \n",
    "    if girilenSayi == -1:\n",
    "        d = False\n",
    "        \n",
    "print(f\"Toplam: {tp}\")"
   ]
  },
  {
   "cell_type": "code",
   "execution_count": 65,
   "id": "427d8bae-e27e-48d0-ae49-f29e5c44d698",
   "metadata": {
    "tags": []
   },
   "outputs": [
    {
     "name": "stdin",
     "output_type": "stream",
     "text": [
      "Toplanacak sayıları giriniz? 85\n"
     ]
    },
    {
     "name": "stdout",
     "output_type": "stream",
     "text": [
      "Toplam: 0\n"
     ]
    },
    {
     "name": "stdin",
     "output_type": "stream",
     "text": [
      "Toplanacak sayıları giriniz? 8\n"
     ]
    },
    {
     "name": "stdout",
     "output_type": "stream",
     "text": [
      "Toplam: 85\n"
     ]
    },
    {
     "name": "stdin",
     "output_type": "stream",
     "text": [
      "Toplanacak sayıları giriniz? 12\n"
     ]
    },
    {
     "name": "stdout",
     "output_type": "stream",
     "text": [
      "Toplam: 93\n"
     ]
    },
    {
     "name": "stdin",
     "output_type": "stream",
     "text": [
      "Toplanacak sayıları giriniz? -1\n"
     ]
    },
    {
     "name": "stdout",
     "output_type": "stream",
     "text": [
      "Toplam: 105\n"
     ]
    }
   ],
   "source": [
    "girilenSayi = 0\n",
    "tp = 0\n",
    "\n",
    "while girilenSayi != -1: #Girilen sayı değerleri -1 olmadığı müddetçe döngü çalışıp dursun.\n",
    "    tp += girilenSayi\n",
    "    girilenSayi = int(input(\"Toplanacak sayıları giriniz?\"))\n",
    "\n",
    "print(f\"Toplam: {tp}\")"
   ]
  },
  {
   "cell_type": "code",
   "execution_count": 71,
   "id": "85139f34-f7f8-434e-a375-a1d00dd1361a",
   "metadata": {
    "tags": []
   },
   "outputs": [
    {
     "name": "stdout",
     "output_type": "stream",
     "text": [
      "1\n",
      "2\n",
      "******\n",
      "1\n",
      "2\n",
      "4\n",
      "5\n"
     ]
    }
   ],
   "source": [
    "#BREAK - CONTINUE : Döngüyü sonlandırmak için kullanılır.\n",
    "#Break,ifadesinin altında kodlar bulunsa dahi çalışmaz ve bir daha şarta bakmak için dahi üst tarafa geçmeden direkt döngü bloğundan sonraki kısımdan programa devam eder.\n",
    "#Continue,döngü bir defalığına durur ve continue kodunun altındaki kodlar işlenilmeden döngünün en başına geçerek döngü şartının sağlanıp sağlanılmadığını kontrol eder.\n",
    "#!Break-Continue anahtar kelimeleri iç ice döngülerde kullanılırsa sadece hangi döngü içerisinde kullanıldı ise o döngü etkilenir dışarısındaki döngülere etki edemez.\n",
    "\n",
    "i,k = 0,0\n",
    "while i<5:\n",
    "    i+=1\n",
    "    if i == 3:\n",
    "        break\n",
    "    print(i)\n",
    "\n",
    "print(\"******\")    \n",
    "    \n",
    "while k<5:\n",
    "    k+=1\n",
    "    if k == 3:\n",
    "        continue\n",
    "    print(k)"
   ]
  },
  {
   "cell_type": "code",
   "execution_count": 77,
   "id": "99f48d11-3632-4762-ad01-34fff70ea4b1",
   "metadata": {
    "tags": []
   },
   "outputs": [
    {
     "name": "stdout",
     "output_type": "stream",
     "text": [
      "0\n",
      "1\n",
      "2\n",
      "3\n",
      "4\n",
      "cinsiyet - e\n",
      "boy - 178\n",
      "diller - ['eng', 'tr', 'fr']\n",
      "cinsiyet\n",
      "boy\n",
      "diller\n",
      "******\n",
      "e\n",
      "178\n",
      "['eng', 'tr', 'fr']\n"
     ]
    }
   ],
   "source": [
    "#FOR listelerdeki elemanlara tek tek ulaşıldıktan sonra başka erişebilecek bir eleman kalmayana kadar devam eder ve döngü bloğu kendini sonlandırır.\n",
    "#For döngüsü list-dict-tuple gibi veri tipleri için yaratılmış bir kaftandır.\n",
    "\n",
    "for x in range(5):\n",
    "    print(x)\n",
    "\n",
    "#!Döngülere ait kod bloklarında özellikle birden fazla kod satırı var ise bunların aynı girinti miktarı bırakılarak yazılması önemlidir.\n",
    "#Sözlük(Dict)'lerde for döngü bloğunun kullanımı için degisken.items() kullanıması,döngü sartının olmaması demek eleman sayılarının kalmaması demektir.\n",
    "\n",
    "kisi = {'cinsiyet':'e','boy':178,'diller':['eng','tr','fr']}\n",
    "for x,y in kisi.items():\n",
    "    print(f\"{x} - {y}\") #x,anahtar değişken-y,veri değeri\n",
    "    \n",
    "#!Sözlüklerde sadece anahtar değişken bulunulması isteniliyorsa keys() - sadece veri değeri bulunulması isteniliyorsa values() metotları kullanılabilir.\n",
    "\n",
    "kisi = {'cinsiyet':'e','boy':178,'diller':['eng','tr','fr']}\n",
    "for x in kisi.keys():\n",
    "    print(f\"{x}\")\n",
    "print(\"******\")   \n",
    "for y in kisi.values():\n",
    "    print(f\"{y}\")\n",
    "\n",
    "#!For döngüsünde Nesting kullanılırken veri türlerinin biçimne göre döngü yapıları değiştirilmelidir. "
   ]
  },
  {
   "cell_type": "code",
   "execution_count": 2,
   "id": "00b4c928-6c3a-46f5-84e8-a935afb2f081",
   "metadata": {
    "tags": []
   },
   "outputs": [
    {
     "name": "stdin",
     "output_type": "stream",
     "text": [
      "Meyve adı giriniz. (Çıkmak için q basınız!) elma\n"
     ]
    },
    {
     "name": "stdout",
     "output_type": "stream",
     "text": [
      "Aradığınız meyve mevcuttur.\n"
     ]
    },
    {
     "name": "stdin",
     "output_type": "stream",
     "text": [
      "Meyve adı giriniz. (Çıkmak için q basınız!) kavun\n"
     ]
    },
    {
     "name": "stdout",
     "output_type": "stream",
     "text": [
      "Aradığınız meyve mevcut değildir.\n"
     ]
    },
    {
     "name": "stdin",
     "output_type": "stream",
     "text": [
      "Meyve adı giriniz. (Çıkmak için q basınız!) q\n",
      "Meyve adı giriniz.(Çıkmak için q basınız!) q\n",
      "Aranan Bilgi uYRUK\n"
     ]
    },
    {
     "name": "stdout",
     "output_type": "stream",
     "text": [
      "Aramanız anahtar kelimelerde bulundu.\n"
     ]
    }
   ],
   "source": [
    "#Lıste ve Sozluklerde IF...IN - IF...NOT IN : Aranılan bir değerde liste/sözlük/demet olup olmadığını göstermek için geliştirilmiş bir ifade yapısıdır.\n",
    "meyveler = ['karpuz','armut','çilek','ayva','elma']\n",
    "while True:\n",
    "    x = (input('Meyve adı giriniz. (Çıkmak için q basınız!)')).lower()\n",
    "    \n",
    "    if x == 'q':\n",
    "        break\n",
    "        \n",
    "    if x in meyveler:\n",
    "        print('Aradığınız meyve mevcuttur.')\n",
    "    else:\n",
    "        print('Aradığınız meyve mevcut değildir.')\n",
    "        \n",
    "meyveler = ['karpuz','armut','çilek','ayva','elma']\n",
    "while True:\n",
    "    x = (input('Meyve adı giriniz.(Çıkmak için q basınız!)')).lower()\n",
    "    \n",
    "    if x == 'q':\n",
    "        break\n",
    "        \n",
    "    if x in meyveler:\n",
    "        print('Aradığınız meyve mevcuttur.')\n",
    "    else:\n",
    "        print('Aradığınız meyve mevcut değildir.')\n",
    "        \n",
    "#!Karşılaştırma şartı olarak aranan değer sadece \"veri seti içinde var mı?\" değil ek olarak \"veri seti içinde yok mu?\" diye bakıveriyor.\n",
    "#!Doğal olarak bu örnekte aranan değer veri seti içerisinde yoksa True değeri, varsa False değeri döndürecektir.\n",
    "\n",
    "#Sözlükte yer alan bilgileri / değerleri listelere çevrilmiş gibi yapmak IF..IN\n",
    "kisi = {'cinsiyet':'erkek','uyruk':'Türkiye Cumhuriyeti','sehir':'Erzincan'}\n",
    "arananDeger = (input('Aranan Bilgi')).lower()\n",
    "\n",
    "if arananDeger in kisi.keys():\n",
    "    print(\"Aramanız anahtar kelimelerde bulundu.\")\n",
    "elif arananDeger in kisi.values():\n",
    "    print(\"Aramanız verilerinde bulundu\")\n",
    "else:\n",
    "    print(\"Bulanamadı\")"
   ]
  },
  {
   "cell_type": "code",
   "execution_count": 24,
   "id": "e092ffde-fae6-4392-baa7-75035fc62eb9",
   "metadata": {
    "tags": []
   },
   "outputs": [
    {
     "name": "stdin",
     "output_type": "stream",
     "text": [
      "İsminizi giriniz? emre\n"
     ]
    },
    {
     "name": "stdout",
     "output_type": "stream",
     "text": [
      "Merhaba\n",
      "Hoş Geldin emre\n",
      "170 cm uzunluğunda, 90 kilogram ağırlığında bir erkek\n",
      "170 cm uzunluğunda, 90 kilogram ağırlığında bir erkek\n",
      "İyi Günler,\n",
      "Hoş Geldin Emre\n",
      "\n",
      "Emre,\n",
      "Hoş Geldin İyi Akşamlar\n",
      "\n",
      "İyi Günler,\n",
      "Hoş Geldin Günaydın\n",
      "\n",
      "Enes\n",
      "Osman\n",
      "Ali\n",
      "erkek\n",
      "178\n",
      "['tr', 'eng', 'fr']\n",
      "390.0\n",
      "10.0\n",
      "10.0\n",
      "0 r\n",
      "1 g\n",
      "2 b\n",
      "0 r\n",
      "1 g\n",
      "2 b\n"
     ]
    }
   ],
   "source": [
    "#FONKSIYONLAR(functıons):Belirli bir amacı yerine getiren kod bloğu olarak geçmektedir.\n",
    "def fn1():\n",
    "    print(\"Merhaba\")\n",
    "def fn2(isim):\n",
    "    print(f\"Hoş Geldin {isim}\")\n",
    "gelenVeri = input('İsminizi giriniz?')\n",
    "fn1()\n",
    "fn2(gelenVeri)\n",
    "#Argümanlar fonksiyonlar çağrıldığında kullanılır, bir fonksiyon parametre olarak değişken/liste/demet/sözlük olarak kabul edilebilir.\n",
    "def fn3(boy,kilo,cinsiyet):\n",
    "    print(f\"{boy} cm uzunluğunda, {kilo} kilogram ağırlığında bir {cinsiyet}\")\n",
    "fn3(\"170\",\"90\",\"erkek\")\n",
    "fn3(cinsiyet=\"erkek\",boy=\"170\",kilo=\"90\")\n",
    "#!Bu küçük bir program lakin büyük fonksiyon çağrılarında argümanların anahtar kelimeler ile kullanılması programın okunmasını, anlaşılmasını yazılmasını kolaylaştıracaktır.\n",
    "#!Argüman sıralamasını fonksiyon tanımlarken kullanılan parametre sırası ile aynı kullanmamak tespiti zor olabilecek hatalara sebep olabilir.\n",
    "\n",
    "#Verilmeyen argümanlarda bu varsayılan parametre kullanılmaktadır.\n",
    "#İki parametreleri fonksiyon tanımlanmış ve ikinci parametresi için bir varsayılan parametre değeri belirlenmiştir.\n",
    "def fn4(isim,gunMesaji ='İyi Günler'):\n",
    "    print(f\"{gunMesaji},\\nHoş Geldin {isim}\\n\")\n",
    "    \n",
    "fn4(\"Emre\")\n",
    "fn4(\"İyi Akşamlar\",\"Emre\")\n",
    "fn4(\"Günaydın\")\n",
    "\n",
    "#Keyfi Argüman Kullanımı(Arbitary Arguments, *args): Eğer fonksiyon kaç parametre alacağı kesin değilse, sınırsız argüman kabulu yapması için Keyfi Argüman kullanılır.\n",
    "#Tek olan parametrenin yanına *(pointer) işareti koymaktır.\n",
    "def fn5(*isimler):\n",
    "    print(isimler[0])\n",
    "    print(isimler[1])\n",
    "    print(isimler[2])\n",
    "fn5('Enes','Osman','Ali','Huseyin','Yusuf')\n",
    "\n",
    "#Keyfi Anahtar Kelimeli Argüman Kullanımı, **kwargs): Eğer fonksiyon kaç anahtar kelimeli parametre alacağı kesin değilse, sınırsız anahtar kelimeli argüman kabülünü yapması için kullanılır.\n",
    "#Tek olan parametrenin yanına **(Operator) işareti koymaktır. Bu sayede fonksiyon ANAHTARKELİMESİ = VERİ ikilisini kabul edecektir.\n",
    "def fn6(**kisi):\n",
    "    print(kisi['cinsiyet'])\n",
    "    print(kisi['boy'])\n",
    "    print(kisi['diller'])\n",
    "fn6(cinsiyet='erkek',boy=178,diller=['tr','eng','fr'])\n",
    "\n",
    "#RETURN: Fonksiyonlar her zaman bir işlev yapmak için çağrılmazlar geri döndürebilirler.\n",
    "def fn7(lst):\n",
    "    tp = 0\n",
    "    for x in lst:\n",
    "        tp += x\n",
    "    return tp / len(lst)\n",
    "\n",
    "veri =[120,250,800]\n",
    "sonuc = fn7(veri)\n",
    "print(sonuc)\n",
    "\n",
    "#LEGB Kuralı : Local Alan -> Enclosed Alan -> Global Alan -> Built-in Alan ,bir değişkenin yalnızca oluşturulduğu alanın içinde kullanılmasına DEĞİŞKEN FAALİYET ALANI denir.\n",
    "#Pass, programsal olarak programa bir etkisi yoktur sadece sonradan yazılacak kodlar bir bir yer tutucu gibi kullanılarak ve boş bırakılacak fonksiyon / if ifadeleri gibi durumlarda programın hata vermesini engeller.\n",
    "\n",
    "#Lambda,fonksiyon tanımlamasının kısaltılmış halidir.\n",
    "hipotenus = lambda x,y:(x**2+y**2)**0.5\n",
    "print(hipotenus(6,8))\n",
    "\n",
    "def hipotenus(x,y):\n",
    "    return(x**2+y**2)**0.5\n",
    "print(hipotenus(6,8))\n",
    "\n",
    "#Enumerate(), parametre olarak almış olduğu itere edebilir yani tekrarlama/döngü için uygun olan nesnenin sırasıyla her bir elemanını dolaşır ve bu dolaşmada her bir eleman için indeks değerini üretip sırasıyla artırır.\n",
    "kanallar = [\"r\",\"g\",\"b\"]\n",
    "for i,kn in enumerate(kanallar):\n",
    "    print(i,kn)\n",
    "    \n",
    "sayi = 0\n",
    "for kn in kanallar:\n",
    "    print(sayi,kn)\n",
    "    sayi+=1"
   ]
  },
  {
   "cell_type": "code",
   "execution_count": 29,
   "id": "a27f4968-0fde-4fc8-bff6-0db27add6766",
   "metadata": {
    "tags": []
   },
   "outputs": [
    {
     "name": "stdout",
     "output_type": "stream",
     "text": [
      "Audi\n",
      "2016\n",
      "Kırmızı\n",
      "Audi ileri gidiyor.\n",
      "**************************\n",
      "WV\n",
      "2017\n",
      "Beyaz\n",
      "WV ileri gidiyor.\n",
      "***************************\n",
      "Beyaz\n",
      "Tesla ileri gidiyor.\n",
      "Güç Miktarı:650kw\n"
     ]
    }
   ],
   "source": [
    "#SINIF/NESNE kavramı\n",
    "class Araba:\n",
    "    def __init__(self,marka,model,renk):\n",
    "        self.marka = marka;\n",
    "        self.model = model;\n",
    "        self.renk = renk;\n",
    "        \n",
    "    def ileriGit(self):\n",
    "        print(f\"{self.marka} ileri gidiyor.\")\n",
    "        \n",
    "    def geriGit(self):\n",
    "        print(f\"{self.marka} geri gidiyor.\")\n",
    "    \n",
    "audi = Araba(\"Audi\",2016,\"Kırmızı\")\n",
    "wv = Araba(\"WV\",2017,\"Beyaz\")\n",
    "\n",
    "print(audi.marka)\n",
    "print(audi.model)\n",
    "print(audi.renk)\n",
    "\n",
    "audi.ileriGit()\n",
    "print(\"**************************\")\n",
    "print(wv.marka)\n",
    "print(wv.model)\n",
    "print(wv.renk)\n",
    "\n",
    "wv.ileriGit()\n",
    "\n",
    "#__init__():özel metot'tur.ikişer tane alt çizgi karakteri kullanılmaktadır çünkü bu metotların ismi kendi yazacağımız metotların ismiyle karıştırılmaması içindir.\n",
    "#__init__() metodu yazarken alt çizgileri eksik yazmak, programsal olarak hataya sebep olmaz fakat her nesne oluşturulduğunda bu metot otomatik olarak çağrılmaz!\n",
    "\n",
    "class ElektrikliAraba(Araba):\n",
    "    def __init__(self,marka,model,renk,guc):\n",
    "        super().__init__(marka,model,renk)\n",
    "        self.guc = guc\n",
    "        \n",
    "    def gucGoster(self):\n",
    "        print(f\"Güç Miktarı:{self.guc}\")\n",
    "        \n",
    "tesla = ElektrikliAraba(\"Tesla\",2022,\"Beyaz\",\"650kw\")\n",
    "\n",
    "print(\"***************************\")\n",
    "print(tesla.renk)\n",
    "tesla.ileriGit()\n",
    "tesla.gucGoster()"
   ]
  },
  {
   "cell_type": "code",
   "execution_count": null,
   "id": "535e2f84-a655-4b44-b20a-7edc41059b23",
   "metadata": {},
   "outputs": [],
   "source": []
  }
 ],
 "metadata": {
  "kernelspec": {
   "display_name": "Python 3 (ipykernel)",
   "language": "python",
   "name": "python3"
  },
  "language_info": {
   "codemirror_mode": {
    "name": "ipython",
    "version": 3
   },
   "file_extension": ".py",
   "mimetype": "text/x-python",
   "name": "python",
   "nbconvert_exporter": "python",
   "pygments_lexer": "ipython3",
   "version": "3.9.13"
  }
 },
 "nbformat": 4,
 "nbformat_minor": 5
}
